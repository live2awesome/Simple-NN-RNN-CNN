{
  "nbformat": 4,
  "nbformat_minor": 0,
  "metadata": {
    "kernelspec": {
      "name": "python3",
      "display_name": "Python 3",
      "language": "python"
    },
    "language_info": {
      "mimetype": "text/x-python",
      "nbconvert_exporter": "python",
      "name": "python",
      "file_extension": ".py",
      "version": "3.5.4",
      "pygments_lexer": "ipython3",
      "codemirror_mode": {
        "version": 3,
        "name": "ipython"
      }
    },
    "colab": {
      "name": "4.Recurrent_Neural_Network.ipynb",
      "provenance": []
    }
  },
  "cells": [
    {
      "cell_type": "markdown",
      "metadata": {
        "id": "QY8AaP7Az7W2"
      },
      "source": [
        "#  Part 1:  Recurrent Neural Network "
      ]
    },
    {
      "cell_type": "markdown",
      "metadata": {
        "id": "p7NR9MFGz7XV"
      },
      "source": [
        "###  Importing packages"
      ]
    },
    {
      "cell_type": "code",
      "metadata": {
        "trusted": true,
        "id": "7PAQ16E1z7Xf",
        "outputId": "1ea416cf-2366-47b0-e937-ad725df72189"
      },
      "source": [
        "import re\n",
        "import numpy as np\n",
        "import pandas as pd \n",
        "\n",
        "from sklearn.feature_extraction.text import CountVectorizer\n",
        "from sklearn.model_selection import train_test_split\n",
        "\n",
        "from keras.preprocessing import sequence\n",
        "from keras.preprocessing.text import Tokenizer\n",
        "from keras.preprocessing.sequence import pad_sequences\n",
        "from keras.models import Sequential\n",
        "from keras.layers import Dense, Embedding, LSTM\n",
        "from keras.datasets import imdb\n",
        "\n",
        "from keras.utils.np_utils import to_categorical\n",
        "\n",
        "import warnings\n",
        "warnings.filterwarnings('ignore')\n",
        "import ssl\n",
        "ssl._create_default_https_context = ssl._create_unverified_context"
      ],
      "execution_count": null,
      "outputs": [
        {
          "output_type": "stream",
          "text": [
            "/home/nbuser/anaconda3_420/lib/python3.5/site-packages/h5py/__init__.py:36: FutureWarning: Conversion of the second argument of issubdtype from `float` to `np.floating` is deprecated. In future, it will be treated as `np.float64 == np.dtype(float).type`.\n",
            "  from ._conv import register_converters as _register_converters\n",
            "Using TensorFlow backend.\n"
          ],
          "name": "stderr"
        }
      ]
    },
    {
      "cell_type": "markdown",
      "metadata": {
        "id": "gS_Lzr5az7Xl"
      },
      "source": [
        "### Preparing Dataset"
      ]
    },
    {
      "cell_type": "code",
      "metadata": {
        "trusted": true,
        "id": "OaXTslYzz7Xn",
        "outputId": "a9e0d182-df6d-4ecb-a1c4-3e895ac8162c"
      },
      "source": [
        "max_features = 1000\n",
        "maxlen = 80  # cut texts after this number of words (among top max_features most common words)\n",
        "batch_size = 32\n",
        "\n",
        "print('Loading data...')\n",
        "(x_train, y_train), (x_test, y_test) = imdb.load_data(num_words=max_features)\n",
        "print(len(x_train), 'train sequences')\n",
        "print(len(x_test), 'test sequences')\n",
        "\n",
        "print('Pad sequences (samples x time)')\n",
        "x_train = sequence.pad_sequences(x_train, maxlen=maxlen)\n",
        "x_test = sequence.pad_sequences(x_test, maxlen=maxlen)\n",
        "print('x_train shape:', x_train.shape)\n",
        "print('x_test shape:', x_test.shape)"
      ],
      "execution_count": null,
      "outputs": [
        {
          "output_type": "stream",
          "text": [
            "Loading data...\n",
            "Downloading data from https://s3.amazonaws.com/text-datasets/imdb.npz\n",
            "17154048/17464789 [============================>.] - ETA: 0s25000 train sequences\n",
            "25000 test sequences\n",
            "Pad sequences (samples x time)\n",
            "x_train shape: (25000, 80)\n",
            "x_test shape: (25000, 80)\n"
          ],
          "name": "stdout"
        }
      ]
    },
    {
      "cell_type": "markdown",
      "metadata": {
        "id": "JxpGPHwhz7Xp"
      },
      "source": [
        "### Visualize the data"
      ]
    },
    {
      "cell_type": "code",
      "metadata": {
        "trusted": true,
        "id": "o7eztV2Iz7Xp",
        "outputId": "88760ca0-7886-4ddb-ba6c-89153d4d62c2"
      },
      "source": [
        "INDEX_FROM=3   # word index offset\n",
        "\n",
        "word_to_id = imdb.get_word_index()\n",
        "word_to_id = {k:(v+INDEX_FROM) for k,v in word_to_id.items()}\n",
        "word_to_id[\"<PAD>\"] = 0\n",
        "word_to_id[\"<START>\"] = 1\n",
        "word_to_id[\"<UNK>\"] = 2\n",
        "\n",
        "id_to_word = {value:key for key,value in word_to_id.items()}\n",
        "print(' '.join(id_to_word[id] for id in x_train[0] ))"
      ],
      "execution_count": null,
      "outputs": [
        {
          "output_type": "stream",
          "text": [
            "Downloading data from https://s3.amazonaws.com/text-datasets/imdb_word_index.json\n",
            "1286144/1641221 [======================>.......] - ETA: 0sthat played the <UNK> of <UNK> and paul they were just brilliant children are often left out of the <UNK> <UNK> i think because the stars that play them all <UNK> up are such a big <UNK> for the whole film but these children are amazing and should be <UNK> for what they have done don't you think the whole story was so <UNK> because it was true and was <UNK> life after all that was <UNK> with us all\n"
          ],
          "name": "stdout"
        }
      ]
    },
    {
      "cell_type": "markdown",
      "metadata": {
        "id": "EEqouFr3z7Xq"
      },
      "source": [
        "### Building a Model"
      ]
    },
    {
      "cell_type": "code",
      "metadata": {
        "trusted": true,
        "id": "XgctWEOiz7Xx",
        "outputId": "6ccee112-a318-45bd-c17b-396e9aa6c7f7"
      },
      "source": [
        "print('Build model...')\n",
        "model = Sequential()\n",
        "model.add(Embedding(max_features, 8))\n",
        "model.add(LSTM(16, dropout=0.2, recurrent_dropout=0.2))\n",
        "model.add(Dense(1, activation='sigmoid'))\n",
        "model.summary()"
      ],
      "execution_count": null,
      "outputs": [
        {
          "output_type": "stream",
          "text": [
            "Build model...\n",
            "_________________________________________________________________\n",
            "Layer (type)                 Output Shape              Param #   \n",
            "=================================================================\n",
            "embedding_1 (Embedding)      (None, None, 8)           8000      \n",
            "_________________________________________________________________\n",
            "lstm_1 (LSTM)                (None, 16)                1600      \n",
            "_________________________________________________________________\n",
            "dense_1 (Dense)              (None, 1)                 17        \n",
            "=================================================================\n",
            "Total params: 9,617\n",
            "Trainable params: 9,617\n",
            "Non-trainable params: 0\n",
            "_________________________________________________________________\n"
          ],
          "name": "stdout"
        }
      ]
    },
    {
      "cell_type": "markdown",
      "metadata": {
        "id": "1WFsVr8Hz7Xz"
      },
      "source": [
        "### Model Training"
      ]
    },
    {
      "cell_type": "code",
      "metadata": {
        "trusted": true,
        "id": "vqokqCJQz7X0",
        "outputId": "d6b69241-3d6f-4aae-ca67-0cdadd12246a"
      },
      "source": [
        "# try using different optimizers and different optimizer configs\n",
        "model.compile(loss='binary_crossentropy', optimizer='adam', metrics=['accuracy'])\n",
        "\n",
        "# Write the training input and output, batch size, and testing input and output\n",
        "\n",
        "model.fit(x_train, y_train, \n",
        "          batch_size=batch_size, \n",
        "          epochs=1, \n",
        "          validation_data=(x_test, y_test))"
      ],
      "execution_count": null,
      "outputs": [
        {
          "output_type": "stream",
          "text": [
            "Train on 25000 samples, validate on 25000 samples\n",
            "Epoch 1/1\n",
            "25000/25000 [==============================] - 191s - loss: 0.5524 - acc: 0.7182 - val_loss: 0.4981 - val_acc: 0.7554\n"
          ],
          "name": "stdout"
        },
        {
          "output_type": "execute_result",
          "data": {
            "text/plain": [
              "<keras.callbacks.History at 0x7f3013c86b70>"
            ]
          },
          "metadata": {
            "tags": []
          },
          "execution_count": 5
        }
      ]
    },
    {
      "cell_type": "markdown",
      "metadata": {
        "id": "N-BkmU6oz7X1"
      },
      "source": [
        "### Testing"
      ]
    },
    {
      "cell_type": "code",
      "metadata": {
        "trusted": true,
        "id": "2AnZAaqdz7X1",
        "outputId": "c4f89ab1-34ef-47c5-9c2b-1650c38c73fb"
      },
      "source": [
        "score, acc = model.evaluate(x_test, y_test, batch_size=batch_size)\n",
        "print('Test score:', score)\n",
        "print('Test accuracy:', acc)"
      ],
      "execution_count": null,
      "outputs": [
        {
          "output_type": "stream",
          "text": [
            "24992/25000 [============================>.] - ETA: 0sTest score: 0.49805993225097656\n",
            "Test accuracy: 0.75544\n"
          ],
          "name": "stdout"
        }
      ]
    },
    {
      "cell_type": "markdown",
      "metadata": {
        "id": "JDB0-pssz7X2"
      },
      "source": [
        "### Prediction"
      ]
    },
    {
      "cell_type": "code",
      "metadata": {
        "trusted": true,
        "id": "7EyBoqMTz7X2",
        "outputId": "46ab0604-0a89-4958-82d6-b8d1face5e75"
      },
      "source": [
        "prediction = model.predict(x_test[205:206])\n",
        "print('Prediction value:',prediction[0])\n",
        "print('Test Label:',y_test[205:206])"
      ],
      "execution_count": null,
      "outputs": [
        {
          "output_type": "stream",
          "text": [
            "Prediction value: [0.76281613]\n",
            "Test Label: [0]\n"
          ],
          "name": "stdout"
        }
      ]
    },
    {
      "cell_type": "markdown",
      "metadata": {
        "id": "MC1Ztcdtz7YA"
      },
      "source": [
        "### Other RNN Layers\n",
        "\n",
        "* keras.layers.RNN(cell, return_sequences=False)\n",
        "* keras.layers.SimpleRNN(units, activation='tanh')\n",
        "* keras.layers.GRU(units, activation='tanh', recurrent_activation='hard_sigmoid')\n",
        "* keras.layers.ConvLSTM2D(filters, kernel_size, strides=(1, 1), padding='valid', )\n",
        "* keras.layers.SimpleRNNCell(units, activation='tanh')\n",
        "* keras.layers.GRUCell(units, activation='tanh', recurrent_activation='hard_sigmoid')\n",
        "* keras.layers.LSTMCell(units, activation='tanh', recurrent_activation='hard_sigmoid')\n",
        "* keras.layers.CuDNNGRU(units, kernel_initializer='glorot_uniform')\n",
        "* keras.layers.CuDNNLSTM(units, kernel_initializer='glorot_uniform')"
      ]
    },
    {
      "cell_type": "markdown",
      "metadata": {
        "id": "9TNqIivLz7YB"
      },
      "source": [
        "# Part 2: Recurrent Neural Network with Custom Dataset"
      ]
    },
    {
      "cell_type": "code",
      "metadata": {
        "collapsed": true,
        "trusted": false,
        "id": "1jE7CHywz7YB"
      },
      "source": [
        "# Credits to Peter Nagy"
      ],
      "execution_count": null,
      "outputs": []
    },
    {
      "cell_type": "markdown",
      "metadata": {
        "id": "NRWI-Yswz7YC"
      },
      "source": [
        "### Load data"
      ]
    },
    {
      "cell_type": "code",
      "metadata": {
        "trusted": true,
        "id": "ijuPo6mqz7YC"
      },
      "source": [
        "data = pd.read_csv('Senti.csv')\n",
        "# Keeping only the neccessary columns\n",
        "data = data[['text','sentiment']]"
      ],
      "execution_count": null,
      "outputs": []
    },
    {
      "cell_type": "markdown",
      "metadata": {
        "collapsed": true,
        "id": "a2mwp59fz7YD"
      },
      "source": [
        "### Visualize data"
      ]
    },
    {
      "cell_type": "code",
      "metadata": {
        "trusted": true,
        "id": "R00RJvzNz7YD",
        "outputId": "e59b9897-0167-4369-9f3d-b28bb2910e30"
      },
      "source": [
        "data.head(10)"
      ],
      "execution_count": null,
      "outputs": [
        {
          "output_type": "execute_result",
          "data": {
            "text/plain": [
              "                                      text sentiment\n",
              "0                          I love this car  Positive\n",
              "1                     This view is amazing  Positive\n",
              "2                I feel great this morning  Positive\n",
              "3        I am so excited about the concert  Positive\n",
              "4                     He is my best friend  Positive\n",
              "5                   I do not like this car  Negative\n",
              "6                    This view is horrible  Negative\n",
              "7                I feel tired this morning  Negative\n",
              "8  I am not looking forward to the concert  Negative\n",
              "9                           He is my enemy  Negative"
            ],
            "text/html": [
              "<div>\n",
              "<table border=\"1\" class=\"dataframe\">\n",
              "  <thead>\n",
              "    <tr style=\"text-align: right;\">\n",
              "      <th></th>\n",
              "      <th>text</th>\n",
              "      <th>sentiment</th>\n",
              "    </tr>\n",
              "  </thead>\n",
              "  <tbody>\n",
              "    <tr>\n",
              "      <th>0</th>\n",
              "      <td>I love this car</td>\n",
              "      <td>Positive</td>\n",
              "    </tr>\n",
              "    <tr>\n",
              "      <th>1</th>\n",
              "      <td>This view is amazing</td>\n",
              "      <td>Positive</td>\n",
              "    </tr>\n",
              "    <tr>\n",
              "      <th>2</th>\n",
              "      <td>I feel great this morning</td>\n",
              "      <td>Positive</td>\n",
              "    </tr>\n",
              "    <tr>\n",
              "      <th>3</th>\n",
              "      <td>I am so excited about the concert</td>\n",
              "      <td>Positive</td>\n",
              "    </tr>\n",
              "    <tr>\n",
              "      <th>4</th>\n",
              "      <td>He is my best friend</td>\n",
              "      <td>Positive</td>\n",
              "    </tr>\n",
              "    <tr>\n",
              "      <th>5</th>\n",
              "      <td>I do not like this car</td>\n",
              "      <td>Negative</td>\n",
              "    </tr>\n",
              "    <tr>\n",
              "      <th>6</th>\n",
              "      <td>This view is horrible</td>\n",
              "      <td>Negative</td>\n",
              "    </tr>\n",
              "    <tr>\n",
              "      <th>7</th>\n",
              "      <td>I feel tired this morning</td>\n",
              "      <td>Negative</td>\n",
              "    </tr>\n",
              "    <tr>\n",
              "      <th>8</th>\n",
              "      <td>I am not looking forward to the concert</td>\n",
              "      <td>Negative</td>\n",
              "    </tr>\n",
              "    <tr>\n",
              "      <th>9</th>\n",
              "      <td>He is my enemy</td>\n",
              "      <td>Negative</td>\n",
              "    </tr>\n",
              "  </tbody>\n",
              "</table>\n",
              "</div>"
            ]
          },
          "metadata": {
            "tags": []
          },
          "execution_count": 11
        }
      ]
    },
    {
      "cell_type": "markdown",
      "metadata": {
        "id": "zELPzcNJz7YE"
      },
      "source": [
        "### Format data"
      ]
    },
    {
      "cell_type": "code",
      "metadata": {
        "trusted": true,
        "id": "gt3on_j1z7YE"
      },
      "source": [
        "data = data[data.sentiment != \"Neutral\"]\n",
        "data['text'] = data['text'].apply(lambda x: x.lower())\n",
        "data['text'] = data['text'].apply((lambda x: re.sub('[^a-zA-z0-9\\s]','',x)))\n",
        "\n",
        "for idx,row in data.iterrows():\n",
        "    row[0] = row[0].replace('rt',' ')\n",
        "\n",
        "max_fatures = 2000\n",
        "tokenizer = Tokenizer(nb_words=max_fatures, split=' ')\n",
        "tokenizer.fit_on_texts(data['text'].values)\n",
        "X = tokenizer.texts_to_sequences(data['text'].values)\n",
        "X = pad_sequences(X)"
      ],
      "execution_count": null,
      "outputs": []
    },
    {
      "cell_type": "markdown",
      "metadata": {
        "id": "GSsMfaGHz7YF"
      },
      "source": [
        "### Training set"
      ]
    },
    {
      "cell_type": "code",
      "metadata": {
        "trusted": true,
        "id": "h9BIV1AIz7YF",
        "outputId": "bdf5ec6b-34df-4871-9368-fd432faa8afe"
      },
      "source": [
        "Y = pd.get_dummies(data['sentiment']).values\n",
        "X_train, X_test, Y_train, Y_test = train_test_split(X,Y, test_size = 0.33, random_state = 42)\n",
        "print('Shape of training samples:',X_train.shape,Y_train.shape)\n",
        "print('Shape of testing samples:',X_test.shape,Y_test.shape)"
      ],
      "execution_count": null,
      "outputs": [
        {
          "output_type": "stream",
          "text": [
            "Shape of training samples: (6, 8) (6, 2)\n",
            "Shape of testing samples: (4, 8) (4, 2)\n"
          ],
          "name": "stdout"
        }
      ]
    },
    {
      "cell_type": "markdown",
      "metadata": {
        "id": "UM0yH6EAz7YG"
      },
      "source": [
        "### Design a model"
      ]
    },
    {
      "cell_type": "code",
      "metadata": {
        "trusted": true,
        "id": "wOaJzr46z7Yw",
        "outputId": "0ba6eac0-9d6a-475e-a549-6fed3cb35306"
      },
      "source": [
        "model = Sequential()\n",
        "model.add(Embedding(max_fatures, 128 ,input_length = X.shape[1], dropout=0.2))\n",
        "model.add(LSTM(128))\n",
        "model.add(Dense(2, activation='softmax'))\n",
        "model.compile(loss = 'categorical_crossentropy', optimizer='adam',metrics = ['accuracy'])\n",
        "print(model.summary())"
      ],
      "execution_count": null,
      "outputs": [
        {
          "output_type": "stream",
          "text": [
            "_________________________________________________________________\n",
            "Layer (type)                 Output Shape              Param #   \n",
            "=================================================================\n",
            "embedding_2 (Embedding)      (None, 8, 128)            256000    \n",
            "_________________________________________________________________\n",
            "lstm_2 (LSTM)                (None, 128)               131584    \n",
            "_________________________________________________________________\n",
            "dense_2 (Dense)              (None, 2)                 258       \n",
            "=================================================================\n",
            "Total params: 387,842\n",
            "Trainable params: 387,842\n",
            "Non-trainable params: 0\n",
            "_________________________________________________________________\n",
            "None\n"
          ],
          "name": "stdout"
        }
      ]
    },
    {
      "cell_type": "markdown",
      "metadata": {
        "id": "qvN0H_WNz7Y2"
      },
      "source": [
        "### Training "
      ]
    },
    {
      "cell_type": "code",
      "metadata": {
        "trusted": false,
        "id": "jkqEY9tOz7Y3",
        "outputId": "1c20297c-3512-43cd-da1a-1dbc1c93faf3"
      },
      "source": [
        "batch_size = 32\n",
        "model.fit(X_train, Y_train, epochs = 5, batch_size=batch_size, verbose = 2)"
      ],
      "execution_count": null,
      "outputs": [
        {
          "output_type": "stream",
          "text": [
            "Epoch 1/5\n",
            "1s - loss: 0.6932 - acc: 0.6667\n",
            "Epoch 2/5\n",
            "0s - loss: 0.6858 - acc: 0.8333\n",
            "Epoch 3/5\n",
            "0s - loss: 0.6792 - acc: 0.8333\n",
            "Epoch 4/5\n",
            "0s - loss: 0.6708 - acc: 0.8333\n",
            "Epoch 5/5\n",
            "0s - loss: 0.6615 - acc: 0.8333\n"
          ],
          "name": "stdout"
        },
        {
          "output_type": "execute_result",
          "data": {
            "text/plain": [
              "<keras.callbacks.History at 0x1eebde37e80>"
            ]
          },
          "metadata": {
            "tags": []
          },
          "execution_count": 27
        }
      ]
    },
    {
      "cell_type": "markdown",
      "metadata": {
        "id": "9u8Uq3Lbz7Y6"
      },
      "source": [
        "### Validation"
      ]
    },
    {
      "cell_type": "code",
      "metadata": {
        "trusted": false,
        "id": "29XWvbvez7Y6",
        "outputId": "bfafbd57-1504-4ea9-a0c3-e0bfa20fb257"
      },
      "source": [
        "score,acc = model.evaluate(X_test, Y_test, verbose = 2, batch_size = batch_size)\n",
        "print(\"Score: %.2f\" % (score))\n",
        "print(\"Accuracy: %.2f\" % (acc))"
      ],
      "execution_count": null,
      "outputs": [
        {
          "output_type": "stream",
          "text": [
            "Score: 0.73\n",
            "Accuracy: 0.00\n"
          ],
          "name": "stdout"
        }
      ]
    },
    {
      "cell_type": "markdown",
      "metadata": {
        "id": "sjZazWZoz7Y7"
      },
      "source": [
        "### Formatting Test Example"
      ]
    },
    {
      "cell_type": "code",
      "metadata": {
        "trusted": false,
        "id": "4cwJrvAQz7Y7",
        "outputId": "54571b21-4943-4019-f5d1-b6e1fed25d3e"
      },
      "source": [
        "text = 'I like him'\n",
        "tester = np.array([text])\n",
        "tester = pd.DataFrame(tester)\n",
        "tester.columns = ['text']\n",
        "\n",
        "tester['text'] = tester['text'].apply(lambda x: x.lower())\n",
        "tester['text'] = tester['text'].apply((lambda x: re.sub('[^a-zA-z0-9\\s]','',x)))\n",
        "\n",
        "max_fatures = 2000\n",
        "test = tokenizer.texts_to_sequences(tester['text'].values)\n",
        "test = pad_sequences(test)\n",
        "\n",
        "if X.shape[1]>test.shape[1]:\n",
        "    test = np.pad(test[0], (X.shape[1]-test.shape[1],0), 'constant')\n",
        "    \n",
        "test = np.array([test])\n",
        "\n",
        "prediction = model.predict(test)\n",
        "print('Prediction value:',prediction[0])"
      ],
      "execution_count": null,
      "outputs": [
        {
          "output_type": "stream",
          "text": [
            "Prediction value: [ 0.52428168  0.47571832]\n"
          ],
          "name": "stdout"
        }
      ]
    },
    {
      "cell_type": "markdown",
      "metadata": {
        "id": "B5X8Zrs7z7Y8"
      },
      "source": [
        "# Part 3: RNN Design Choices"
      ]
    },
    {
      "cell_type": "markdown",
      "metadata": {
        "id": "xO_8UD0xz7Y9"
      },
      "source": [
        "## Influence of number of nodes"
      ]
    },
    {
      "cell_type": "markdown",
      "metadata": {
        "id": "JZVHVKY2z7Y9"
      },
      "source": [
        "### LSTM with 8 nodes"
      ]
    },
    {
      "cell_type": "code",
      "metadata": {
        "trusted": false,
        "id": "_qjTUqqJz7Y-",
        "outputId": "4432cf6d-870d-472d-baf6-75988c99e77f"
      },
      "source": [
        "model = Sequential()\n",
        "model.add(Embedding(max_features, 8))\n",
        "model.add(LSTM(8, dropout=0.0, recurrent_dropout=0.0))\n",
        "model.add(Dense(1, activation='sigmoid'))\n",
        "model.summary()\n",
        "\n",
        "model.compile(loss='binary_crossentropy', optimizer='adam', metrics=['accuracy'])\n",
        "model.fit(x_train, y_train, batch_size=batch_size, epochs=1, validation_data=(x_test, y_test))\n",
        "\n",
        "score, acc = model.evaluate(x_test, y_test, batch_size=batch_size)\n",
        "print('Test score:', score)\n",
        "print('Test accuracy:', acc)"
      ],
      "execution_count": null,
      "outputs": [
        {
          "output_type": "stream",
          "text": [
            "_________________________________________________________________\n",
            "Layer (type)                 Output Shape              Param #   \n",
            "=================================================================\n",
            "embedding_2 (Embedding)      (None, None, 8)           8000      \n",
            "_________________________________________________________________\n",
            "lstm_2 (LSTM)                (None, 8)                 544       \n",
            "_________________________________________________________________\n",
            "dense_2 (Dense)              (None, 1)                 9         \n",
            "=================================================================\n",
            "Total params: 8,553\n",
            "Trainable params: 8,553\n",
            "Non-trainable params: 0\n",
            "_________________________________________________________________\n",
            "Train on 25000 samples, validate on 25000 samples\n",
            "Epoch 1/1\n",
            "25000/25000 [==============================] - 217s - loss: 0.5174 - acc: 0.7421 - val_loss: 0.4107 - val_acc: 0.8124\n",
            "24992/25000 [============================>.] - ETA: 0sTest score: 0.4106640857410431\n",
            "Test accuracy: 0.81244\n"
          ],
          "name": "stdout"
        }
      ]
    },
    {
      "cell_type": "markdown",
      "metadata": {
        "id": "-rocHMWyz7ZA"
      },
      "source": [
        "### LSTM with 16 nodes"
      ]
    },
    {
      "cell_type": "code",
      "metadata": {
        "trusted": false,
        "id": "JCC64DKYz7ZC"
      },
      "source": [
        "# Write your code here \n",
        "\n",
        "# Use the same layer design from the above cell "
      ],
      "execution_count": null,
      "outputs": []
    },
    {
      "cell_type": "markdown",
      "metadata": {
        "id": "tlOoIk4yz7ZJ"
      },
      "source": [
        "## Influence of Embedding"
      ]
    },
    {
      "cell_type": "code",
      "metadata": {
        "trusted": false,
        "id": "ZQnSTFrxz7ZK",
        "outputId": "46908137-fb3d-46d1-d6b3-623f6c1db257"
      },
      "source": [
        "model = Sequential()\n",
        "model.add(Embedding(max_features, 4))\n",
        "model.add(LSTM(16, dropout=0.0, recurrent_dropout=0.0))\n",
        "model.add(Dense(1, activation='sigmoid'))\n",
        "model.summary()\n",
        "\n",
        "model.compile(loss='binary_crossentropy', optimizer='adam', metrics=['accuracy'])\n",
        "model.fit(x_train, y_train, batch_size=batch_size, epochs=1, validation_data=(x_test, y_test))\n",
        "\n",
        "score, acc = model.evaluate(x_test, y_test, batch_size=batch_size)\n",
        "print('Test score:', score)\n",
        "print('Test accuracy:', acc)"
      ],
      "execution_count": null,
      "outputs": [
        {
          "output_type": "stream",
          "text": [
            "_________________________________________________________________\n",
            "Layer (type)                 Output Shape              Param #   \n",
            "=================================================================\n",
            "embedding_6 (Embedding)      (None, None, 4)           4000      \n",
            "_________________________________________________________________\n",
            "lstm_6 (LSTM)                (None, 8)                 416       \n",
            "_________________________________________________________________\n",
            "dense_6 (Dense)              (None, 1)                 9         \n",
            "=================================================================\n",
            "Total params: 4,425\n",
            "Trainable params: 4,425\n",
            "Non-trainable params: 0\n",
            "_________________________________________________________________\n",
            "Train on 25000 samples, validate on 25000 samples\n",
            "Epoch 1/1\n",
            "25000/25000 [==============================] - 35s - loss: 0.5246 - acc: 0.7405 - val_loss: 0.4234 - val_acc: 0.8097\n",
            "24896/25000 [============================>.] - ETA: 0sTest score: 0.423391309032\n",
            "Test accuracy: 0.80968\n"
          ],
          "name": "stdout"
        }
      ]
    },
    {
      "cell_type": "markdown",
      "metadata": {
        "id": "-W_dkwU5z7ZK"
      },
      "source": [
        "## Influence of Dropout"
      ]
    },
    {
      "cell_type": "markdown",
      "metadata": {
        "id": "PsSefqqtz7ZL"
      },
      "source": [
        "### Dropout with probability 0.5"
      ]
    },
    {
      "cell_type": "code",
      "metadata": {
        "trusted": false,
        "id": "eQtzaUZfz7ZL",
        "outputId": "0747d194-418c-4d25-b80b-f93d6eb037ff"
      },
      "source": [
        "model = Sequential()\n",
        "model.add(Embedding(max_features, 32))\n",
        "model.add(LSTM(8, dropout=0.5, recurrent_dropout=0.5))\n",
        "model.add(Dense(1, activation='sigmoid'))\n",
        "model.summary()\n",
        "\n",
        "model.compile(loss='binary_crossentropy', optimizer='adam', metrics=['accuracy'])\n",
        "model.fit(x_train, y_train, batch_size=batch_size, epochs=1, validation_data=(x_test, y_test))\n",
        "\n",
        "score, acc = model.evaluate(x_test, y_test, batch_size=batch_size)\n",
        "print('Test score:', score)\n",
        "print('Test accuracy:', acc)"
      ],
      "execution_count": null,
      "outputs": [
        {
          "output_type": "stream",
          "text": [
            "_________________________________________________________________\n",
            "Layer (type)                 Output Shape              Param #   \n",
            "=================================================================\n",
            "embedding_7 (Embedding)      (None, None, 32)          32000     \n",
            "_________________________________________________________________\n",
            "lstm_7 (LSTM)                (None, 8)                 1312      \n",
            "_________________________________________________________________\n",
            "dense_7 (Dense)              (None, 1)                 9         \n",
            "=================================================================\n",
            "Total params: 33,321\n",
            "Trainable params: 33,321\n",
            "Non-trainable params: 0\n",
            "_________________________________________________________________\n",
            "Train on 25000 samples, validate on 25000 samples\n",
            "Epoch 1/1\n",
            "25000/25000 [==============================] - 43s - loss: 0.6015 - acc: 0.6839 - val_loss: 0.5160 - val_acc: 0.7456\n",
            "25000/25000 [==============================] - 8s     \n",
            "Test score: 0.515958270683\n",
            "Test accuracy: 0.74564\n"
          ],
          "name": "stdout"
        }
      ]
    },
    {
      "cell_type": "markdown",
      "metadata": {
        "id": "xd7J4tDLz7ZN"
      },
      "source": [
        "## Multilayered RNNs"
      ]
    },
    {
      "cell_type": "markdown",
      "metadata": {
        "id": "D67pbrXVz7ZN"
      },
      "source": [
        "### RNN with 2 layer LSTM"
      ]
    },
    {
      "cell_type": "code",
      "metadata": {
        "trusted": false,
        "id": "fOq-MZt_z7ZO",
        "outputId": "2c1d5192-df0c-4d7d-fb3e-5c770c11e9d6"
      },
      "source": [
        "model = Sequential()\n",
        "model.add(Embedding(max_features, 8))\n",
        "model.add(LSTM(8, dropout=0.0, recurrent_dropout=0.0, return_sequences=True))\n",
        "model.add(LSTM(8, dropout=0.0, recurrent_dropout=0.0))\n",
        "model.add(Dense(1, activation='sigmoid'))\n",
        "model.summary()\n",
        "\n",
        "model.compile(loss='binary_crossentropy', optimizer='adam', metrics=['accuracy'])\n",
        "model.fit(x_train, y_train, batch_size=batch_size, epochs=1, validation_data=(x_test, y_test))\n",
        "\n",
        "score, acc = model.evaluate(x_test, y_test, batch_size=batch_size)\n",
        "print('Test score:', score)\n",
        "print('Test accuracy:', acc)"
      ],
      "execution_count": null,
      "outputs": [
        {
          "output_type": "stream",
          "text": [
            "_________________________________________________________________\n",
            "Layer (type)                 Output Shape              Param #   \n",
            "=================================================================\n",
            "embedding_9 (Embedding)      (None, None, 32)          32000     \n",
            "_________________________________________________________________\n",
            "lstm_9 (LSTM)                (None, None, 8)           1312      \n",
            "_________________________________________________________________\n",
            "lstm_10 (LSTM)               (None, 8)                 544       \n",
            "_________________________________________________________________\n",
            "dense_9 (Dense)              (None, 1)                 9         \n",
            "=================================================================\n",
            "Total params: 33,865\n",
            "Trainable params: 33,865\n",
            "Non-trainable params: 0\n",
            "_________________________________________________________________\n",
            "Train on 25000 samples, validate on 25000 samples\n",
            "Epoch 1/1\n",
            "25000/25000 [==============================] - 78s - loss: 0.4901 - acc: 0.7568 - val_loss: 0.4055 - val_acc: 0.8138\n",
            "24928/25000 [============================>.] - ETA: 0sTest score: 0.405534606228\n",
            "Test accuracy: 0.81376\n"
          ],
          "name": "stdout"
        }
      ]
    }
  ]
}