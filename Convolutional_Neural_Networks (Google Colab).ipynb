{
  "nbformat": 4,
  "nbformat_minor": 0,
  "metadata": {
    "kernelspec": {
      "name": "python3",
      "display_name": "Python 3",
      "language": "python"
    },
    "language_info": {
      "mimetype": "text/x-python",
      "nbconvert_exporter": "python",
      "name": "python",
      "pygments_lexer": "ipython3",
      "version": "3.5.4",
      "file_extension": ".py",
      "codemirror_mode": {
        "version": 3,
        "name": "ipython"
      }
    },
    "colab": {
      "name": "3.Convolutional_Neural_Networks.ipynb",
      "provenance": []
    }
  },
  "cells": [
    {
      "cell_type": "markdown",
      "metadata": {
        "id": "85yV767Gz622"
      },
      "source": [
        "# Simple Convolutional Neural Network"
      ]
    },
    {
      "cell_type": "markdown",
      "metadata": {
        "id": "i5UNE9-Qz63z"
      },
      "source": [
        "###  Importing packages"
      ]
    },
    {
      "cell_type": "code",
      "metadata": {
        "trusted": true,
        "id": "NnZp2RyYz630",
        "outputId": "d5646e3b-e897-4eaa-9a7a-d10a996a52b7"
      },
      "source": [
        "import numpy as np\n",
        "import keras\n",
        "from keras.datasets import mnist\n",
        "from keras.models import Sequential\n",
        "from keras.layers import Dense, Dropout, Flatten, Conv2D, MaxPooling2D\n",
        "from keras import backend as K\n",
        "from keras.preprocessing import image\n",
        "from keras.applications.mobilenet import MobileNet\n",
        "from keras.applications.vgg16 import preprocess_input, decode_predictions\n",
        "from keras.models import Model\n",
        "import timeit\n",
        "\n",
        "import warnings\n",
        "warnings.filterwarnings('ignore')"
      ],
      "execution_count": null,
      "outputs": [
        {
          "output_type": "stream",
          "text": [
            "/home/nbuser/anaconda3_420/lib/python3.5/site-packages/h5py/__init__.py:36: FutureWarning: Conversion of the second argument of issubdtype from `float` to `np.floating` is deprecated. In future, it will be treated as `np.float64 == np.dtype(float).type`.\n",
            "  from ._conv import register_converters as _register_converters\n",
            "Using TensorFlow backend.\n"
          ],
          "name": "stderr"
        }
      ]
    },
    {
      "cell_type": "markdown",
      "metadata": {
        "id": "7kRzOwdcz632"
      },
      "source": [
        "### Preparing Dataset"
      ]
    },
    {
      "cell_type": "code",
      "metadata": {
        "trusted": true,
        "id": "J5eQzC1qz634",
        "outputId": "07d43dce-8fc8-457b-d59e-1a1491b4cd6f"
      },
      "source": [
        "batch_size = 128\n",
        "num_classes = 10\n",
        "epochs = 1\n",
        "\n",
        "# input image dimensions\n",
        "img_rows, img_cols = 28, 28\n",
        "\n",
        "# the data, shuffled and split between train and test sets\n",
        "(x_train, y_train), (x_test, y_test) = mnist.load_data()\n",
        "\n",
        "if K.image_data_format() == 'channels_first':\n",
        "    x_train = x_train.reshape(x_train.shape[0], 1, img_rows, img_cols)\n",
        "    x_test = x_test.reshape(x_test.shape[0], 1, img_rows, img_cols)\n",
        "    input_shape = (1, img_rows, img_cols)\n",
        "else:\n",
        "    x_train = x_train.reshape(x_train.shape[0], img_rows, img_cols, 1)\n",
        "    x_test = x_test.reshape(x_test.shape[0], img_rows, img_cols, 1)\n",
        "    input_shape = (img_rows, img_cols, 1)\n",
        "\n",
        "x_train = x_train.astype('float32')\n",
        "x_test = x_test.astype('float32')\n",
        "x_train /= 255\n",
        "x_test /= 255\n",
        "print('x_train shape:', x_train.shape)\n",
        "print(x_train.shape[0], 'train samples')\n",
        "print(x_test.shape[0], 'test samples')\n",
        "\n",
        "# convert class vectors to binary class matrices\n",
        "y_train = keras.utils.to_categorical(y_train, num_classes)\n",
        "y_test = keras.utils.to_categorical(y_test, num_classes)"
      ],
      "execution_count": null,
      "outputs": [
        {
          "output_type": "stream",
          "text": [
            "Downloading data from https://s3.amazonaws.com/img-datasets/mnist.npz\n",
            "11386880/11490434 [============================>.] - ETA: 0sx_train shape: (60000, 28, 28, 1)\n",
            "60000 train samples\n",
            "10000 test samples\n"
          ],
          "name": "stdout"
        }
      ]
    },
    {
      "cell_type": "markdown",
      "metadata": {
        "id": "GYZTzmpsz635"
      },
      "source": [
        "### Building a Model"
      ]
    },
    {
      "cell_type": "code",
      "metadata": {
        "trusted": true,
        "id": "CR5XhYkjz638",
        "outputId": "5f33d046-61e3-4b38-e9c6-b5b393f570b9"
      },
      "source": [
        "model = Sequential()\n",
        "model.add(Conv2D(8, kernel_size=(3, 3), activation='relu', input_shape=input_shape))\n",
        "model.add(MaxPooling2D(pool_size=(2, 2)))\n",
        "model.add(Conv2D(16, (3, 3), activation='relu'))\n",
        "model.add(MaxPooling2D(pool_size=(2, 2)))\n",
        "model.add(Dropout(0.25))\n",
        "model.add(Flatten())\n",
        "model.add(Dense(32, activation='relu'))\n",
        "model.add(Dropout(0.5))\n",
        "model.add(Dense(num_classes, activation='softmax'))\n",
        "model.summary()"
      ],
      "execution_count": null,
      "outputs": [
        {
          "output_type": "stream",
          "text": [
            "_________________________________________________________________\n",
            "Layer (type)                 Output Shape              Param #   \n",
            "=================================================================\n",
            "conv2d_1 (Conv2D)            (None, 26, 26, 8)         80        \n",
            "_________________________________________________________________\n",
            "max_pooling2d_1 (MaxPooling2 (None, 13, 13, 8)         0         \n",
            "_________________________________________________________________\n",
            "conv2d_2 (Conv2D)            (None, 11, 11, 16)        1168      \n",
            "_________________________________________________________________\n",
            "max_pooling2d_2 (MaxPooling2 (None, 5, 5, 16)          0         \n",
            "_________________________________________________________________\n",
            "dropout_1 (Dropout)          (None, 5, 5, 16)          0         \n",
            "_________________________________________________________________\n",
            "flatten_1 (Flatten)          (None, 400)               0         \n",
            "_________________________________________________________________\n",
            "dense_1 (Dense)              (None, 32)                12832     \n",
            "_________________________________________________________________\n",
            "dropout_2 (Dropout)          (None, 32)                0         \n",
            "_________________________________________________________________\n",
            "dense_2 (Dense)              (None, 10)                330       \n",
            "=================================================================\n",
            "Total params: 14,410\n",
            "Trainable params: 14,410\n",
            "Non-trainable params: 0\n",
            "_________________________________________________________________\n"
          ],
          "name": "stdout"
        }
      ]
    },
    {
      "cell_type": "markdown",
      "metadata": {
        "id": "6D2anM-Iz63-"
      },
      "source": [
        "### Model Training"
      ]
    },
    {
      "cell_type": "code",
      "metadata": {
        "trusted": true,
        "id": "gbF5QHLXz64A",
        "outputId": "e84d924c-2f86-4001-ff7e-668bed07afdd"
      },
      "source": [
        "model.compile(loss=keras.losses.categorical_crossentropy,\n",
        "              optimizer=keras.optimizers.Adadelta(),\n",
        "              metrics=['accuracy'])\n",
        "\n",
        "model.fit(x_train, y_train,\n",
        "          batch_size=batch_size,\n",
        "          epochs=epochs,\n",
        "          verbose=1,\n",
        "          validation_data=(x_test, y_test))"
      ],
      "execution_count": null,
      "outputs": [
        {
          "output_type": "stream",
          "text": [
            "Train on 60000 samples, validate on 10000 samples\n",
            "Epoch 1/1\n",
            "60000/60000 [==============================] - 18s - loss: 1.0732 - acc: 0.6316 - val_loss: 0.2330 - val_acc: 0.9394\n"
          ],
          "name": "stdout"
        },
        {
          "output_type": "execute_result",
          "data": {
            "text/plain": [
              "<keras.callbacks.History at 0x7f600db5c400>"
            ]
          },
          "metadata": {
            "tags": []
          },
          "execution_count": 4
        }
      ]
    },
    {
      "cell_type": "markdown",
      "metadata": {
        "id": "wFkTomQhz64C"
      },
      "source": [
        "### Testing"
      ]
    },
    {
      "cell_type": "code",
      "metadata": {
        "trusted": true,
        "id": "gNevlj0Az64C",
        "outputId": "6d567e97-7fc5-4fd8-fe4f-795ccc27e736"
      },
      "source": [
        "score = model.evaluate(x_test, y_test, verbose=0)\n",
        "print('Test loss:', score[0])\n",
        "print('Test accuracy:', score[1])"
      ],
      "execution_count": null,
      "outputs": [
        {
          "output_type": "stream",
          "text": [
            "Test loss: 0.2329661255478859\n",
            "Test accuracy: 0.9394\n"
          ],
          "name": "stdout"
        }
      ]
    },
    {
      "cell_type": "markdown",
      "metadata": {
        "id": "TYftZIt5z64D"
      },
      "source": [
        "### Prediction"
      ]
    },
    {
      "cell_type": "code",
      "metadata": {
        "trusted": true,
        "id": "Ge8sJcIbz64E",
        "outputId": "f2ed8aae-228a-4896-ac9b-896b65a0d12d"
      },
      "source": [
        "import pylab as plt\n",
        "\n",
        "plt.imshow(x_test[23].reshape(28,28),cmap='gray')\n",
        "plt.show()"
      ],
      "execution_count": null,
      "outputs": [
        {
          "output_type": "display_data",
          "data": {
            "image/png": "[encoded data removed]",
            "text/plain": [
              "<matplotlib.figure.Figure at 0x7f6004382f98>"
            ]
          },
          "metadata": {
            "tags": []
          }
        }
      ]
    },
    {
      "cell_type": "code",
      "metadata": {
        "scrolled": true,
        "trusted": true,
        "id": "JM5YhxdJz64F",
        "outputId": "1571f7f0-46b3-4af0-f8df-130a3a5105f2"
      },
      "source": [
        "import numpy as np\n",
        "prediction = model.predict(x_test[23:24])\n",
        "print('Prediction Score:\\n',prediction[0])\n",
        "thresholded = (prediction>0.5)*1\n",
        "print('\\nThresholded Score:\\n',thresholded[0])\n",
        "print('\\nPredicted Digit:\\n',np.where(thresholded == 1)[1][0])"
      ],
      "execution_count": null,
      "outputs": [
        {
          "output_type": "stream",
          "text": [
            "Prediction Score:\n",
            " [1.3202336e-04 5.9146137e-06 5.9644599e-06 4.8757242e-03 3.1039901e-05\n",
            " 9.8354638e-01 1.3116878e-03 7.6690242e-07 9.7467937e-03 3.4378000e-04]\n",
            "\n",
            "Thresholded Score:\n",
            " [0 0 0 0 0 1 0 0 0 0]\n",
            "\n",
            "Predicted Digit:\n",
            " 5\n"
          ],
          "name": "stdout"
        }
      ]
    },
    {
      "cell_type": "markdown",
      "metadata": {
        "id": "IlumCvjuz64G"
      },
      "source": [
        "# Part 2: Applications of Convolutional Neural Network"
      ]
    },
    {
      "cell_type": "markdown",
      "metadata": {
        "id": "S47-lbYHz64H"
      },
      "source": [
        "###  MobileNet Models"
      ]
    },
    {
      "cell_type": "code",
      "metadata": {
        "trusted": true,
        "id": "sAORrppKz64I",
        "outputId": "1dcca691-a63d-462b-e94a-6cef573ac4db"
      },
      "source": [
        "model = MobileNet(input_shape=None, alpha=0.25, depth_multiplier=1, dropout=1e-3, \n",
        "                                 include_top=True, weights='imagenet', input_tensor=None, pooling=None, classes=1000)\n",
        "\n",
        "model.summary()"
      ],
      "execution_count": null,
      "outputs": [
        {
          "output_type": "stream",
          "text": [
            "Downloading data from https://github.com/fchollet/deep-learning-models/releases/download/v0.6/mobilenet_2_5_224_tf.h5\n",
            "1572864/2108140 [=====================>........] - ETA: 0s_________________________________________________________________\n",
            "Layer (type)                 Output Shape              Param #   \n",
            "=================================================================\n",
            "input_1 (InputLayer)         (None, 224, 224, 3)       0         \n",
            "_________________________________________________________________\n",
            "conv1 (Conv2D)               (None, 112, 112, 8)       216       \n",
            "_________________________________________________________________\n",
            "conv1_bn (BatchNormalization (None, 112, 112, 8)       32        \n",
            "_________________________________________________________________\n",
            "conv1_relu (Activation)      (None, 112, 112, 8)       0         \n",
            "_________________________________________________________________\n",
            "conv_dw_1 (DepthwiseConv2D)  (None, 112, 112, 8)       72        \n",
            "_________________________________________________________________\n",
            "conv_dw_1_bn (BatchNormaliza (None, 112, 112, 8)       32        \n",
            "_________________________________________________________________\n",
            "conv_dw_1_relu (Activation)  (None, 112, 112, 8)       0         \n",
            "_________________________________________________________________\n",
            "conv_pw_1 (Conv2D)           (None, 112, 112, 16)      128       \n",
            "_________________________________________________________________\n",
            "conv_pw_1_bn (BatchNormaliza (None, 112, 112, 16)      64        \n",
            "_________________________________________________________________\n",
            "conv_pw_1_relu (Activation)  (None, 112, 112, 16)      0         \n",
            "_________________________________________________________________\n",
            "conv_dw_2 (DepthwiseConv2D)  (None, 56, 56, 16)        144       \n",
            "_________________________________________________________________\n",
            "conv_dw_2_bn (BatchNormaliza (None, 56, 56, 16)        64        \n",
            "_________________________________________________________________\n",
            "conv_dw_2_relu (Activation)  (None, 56, 56, 16)        0         \n",
            "_________________________________________________________________\n",
            "conv_pw_2 (Conv2D)           (None, 56, 56, 32)        512       \n",
            "_________________________________________________________________\n",
            "conv_pw_2_bn (BatchNormaliza (None, 56, 56, 32)        128       \n",
            "_________________________________________________________________\n",
            "conv_pw_2_relu (Activation)  (None, 56, 56, 32)        0         \n",
            "_________________________________________________________________\n",
            "conv_dw_3 (DepthwiseConv2D)  (None, 56, 56, 32)        288       \n",
            "_________________________________________________________________\n",
            "conv_dw_3_bn (BatchNormaliza (None, 56, 56, 32)        128       \n",
            "_________________________________________________________________\n",
            "conv_dw_3_relu (Activation)  (None, 56, 56, 32)        0         \n",
            "_________________________________________________________________\n",
            "conv_pw_3 (Conv2D)           (None, 56, 56, 32)        1024      \n",
            "_________________________________________________________________\n",
            "conv_pw_3_bn (BatchNormaliza (None, 56, 56, 32)        128       \n",
            "_________________________________________________________________\n",
            "conv_pw_3_relu (Activation)  (None, 56, 56, 32)        0         \n",
            "_________________________________________________________________\n",
            "conv_dw_4 (DepthwiseConv2D)  (None, 28, 28, 32)        288       \n",
            "_________________________________________________________________\n",
            "conv_dw_4_bn (BatchNormaliza (None, 28, 28, 32)        128       \n",
            "_________________________________________________________________\n",
            "conv_dw_4_relu (Activation)  (None, 28, 28, 32)        0         \n",
            "_________________________________________________________________\n",
            "conv_pw_4 (Conv2D)           (None, 28, 28, 64)        2048      \n",
            "_________________________________________________________________\n",
            "conv_pw_4_bn (BatchNormaliza (None, 28, 28, 64)        256       \n",
            "_________________________________________________________________\n",
            "conv_pw_4_relu (Activation)  (None, 28, 28, 64)        0         \n",
            "_________________________________________________________________\n",
            "conv_dw_5 (DepthwiseConv2D)  (None, 28, 28, 64)        576       \n",
            "_________________________________________________________________\n",
            "conv_dw_5_bn (BatchNormaliza (None, 28, 28, 64)        256       \n",
            "_________________________________________________________________\n",
            "conv_dw_5_relu (Activation)  (None, 28, 28, 64)        0         \n",
            "_________________________________________________________________\n",
            "conv_pw_5 (Conv2D)           (None, 28, 28, 64)        4096      \n",
            "_________________________________________________________________\n",
            "conv_pw_5_bn (BatchNormaliza (None, 28, 28, 64)        256       \n",
            "_________________________________________________________________\n",
            "conv_pw_5_relu (Activation)  (None, 28, 28, 64)        0         \n",
            "_________________________________________________________________\n",
            "conv_dw_6 (DepthwiseConv2D)  (None, 14, 14, 64)        576       \n",
            "_________________________________________________________________\n",
            "conv_dw_6_bn (BatchNormaliza (None, 14, 14, 64)        256       \n",
            "_________________________________________________________________\n",
            "conv_dw_6_relu (Activation)  (None, 14, 14, 64)        0         \n",
            "_________________________________________________________________\n",
            "conv_pw_6 (Conv2D)           (None, 14, 14, 128)       8192      \n",
            "_________________________________________________________________\n",
            "conv_pw_6_bn (BatchNormaliza (None, 14, 14, 128)       512       \n",
            "_________________________________________________________________\n",
            "conv_pw_6_relu (Activation)  (None, 14, 14, 128)       0         \n",
            "_________________________________________________________________\n",
            "conv_dw_7 (DepthwiseConv2D)  (None, 14, 14, 128)       1152      \n",
            "_________________________________________________________________\n",
            "conv_dw_7_bn (BatchNormaliza (None, 14, 14, 128)       512       \n",
            "_________________________________________________________________\n",
            "conv_dw_7_relu (Activation)  (None, 14, 14, 128)       0         \n",
            "_________________________________________________________________\n",
            "conv_pw_7 (Conv2D)           (None, 14, 14, 128)       16384     \n",
            "_________________________________________________________________\n",
            "conv_pw_7_bn (BatchNormaliza (None, 14, 14, 128)       512       \n",
            "_________________________________________________________________\n",
            "conv_pw_7_relu (Activation)  (None, 14, 14, 128)       0         \n",
            "_________________________________________________________________\n",
            "conv_dw_8 (DepthwiseConv2D)  (None, 14, 14, 128)       1152      \n",
            "_________________________________________________________________\n",
            "conv_dw_8_bn (BatchNormaliza (None, 14, 14, 128)       512       \n",
            "_________________________________________________________________\n",
            "conv_dw_8_relu (Activation)  (None, 14, 14, 128)       0         \n",
            "_________________________________________________________________\n",
            "conv_pw_8 (Conv2D)           (None, 14, 14, 128)       16384     \n",
            "_________________________________________________________________\n",
            "conv_pw_8_bn (BatchNormaliza (None, 14, 14, 128)       512       \n",
            "_________________________________________________________________\n",
            "conv_pw_8_relu (Activation)  (None, 14, 14, 128)       0         \n",
            "_________________________________________________________________\n",
            "conv_dw_9 (DepthwiseConv2D)  (None, 14, 14, 128)       1152      \n",
            "_________________________________________________________________\n",
            "conv_dw_9_bn (BatchNormaliza (None, 14, 14, 128)       512       \n",
            "_________________________________________________________________\n",
            "conv_dw_9_relu (Activation)  (None, 14, 14, 128)       0         \n",
            "_________________________________________________________________\n",
            "conv_pw_9 (Conv2D)           (None, 14, 14, 128)       16384     \n",
            "_________________________________________________________________\n",
            "conv_pw_9_bn (BatchNormaliza (None, 14, 14, 128)       512       \n",
            "_________________________________________________________________\n",
            "conv_pw_9_relu (Activation)  (None, 14, 14, 128)       0         \n",
            "_________________________________________________________________\n",
            "conv_dw_10 (DepthwiseConv2D) (None, 14, 14, 128)       1152      \n",
            "_________________________________________________________________\n",
            "conv_dw_10_bn (BatchNormaliz (None, 14, 14, 128)       512       \n",
            "_________________________________________________________________\n",
            "conv_dw_10_relu (Activation) (None, 14, 14, 128)       0         \n",
            "_________________________________________________________________\n",
            "conv_pw_10 (Conv2D)          (None, 14, 14, 128)       16384     \n",
            "_________________________________________________________________\n",
            "conv_pw_10_bn (BatchNormaliz (None, 14, 14, 128)       512       \n",
            "_________________________________________________________________\n",
            "conv_pw_10_relu (Activation) (None, 14, 14, 128)       0         \n",
            "_________________________________________________________________\n",
            "conv_dw_11 (DepthwiseConv2D) (None, 14, 14, 128)       1152      \n",
            "_________________________________________________________________\n",
            "conv_dw_11_bn (BatchNormaliz (None, 14, 14, 128)       512       \n",
            "_________________________________________________________________\n",
            "conv_dw_11_relu (Activation) (None, 14, 14, 128)       0         \n",
            "_________________________________________________________________\n",
            "conv_pw_11 (Conv2D)          (None, 14, 14, 128)       16384     \n",
            "_________________________________________________________________\n",
            "conv_pw_11_bn (BatchNormaliz (None, 14, 14, 128)       512       \n",
            "_________________________________________________________________\n",
            "conv_pw_11_relu (Activation) (None, 14, 14, 128)       0         \n",
            "_________________________________________________________________\n",
            "conv_dw_12 (DepthwiseConv2D) (None, 7, 7, 128)         1152      \n",
            "_________________________________________________________________\n",
            "conv_dw_12_bn (BatchNormaliz (None, 7, 7, 128)         512       \n",
            "_________________________________________________________________\n",
            "conv_dw_12_relu (Activation) (None, 7, 7, 128)         0         \n",
            "_________________________________________________________________\n",
            "conv_pw_12 (Conv2D)          (None, 7, 7, 256)         32768     \n",
            "_________________________________________________________________\n",
            "conv_pw_12_bn (BatchNormaliz (None, 7, 7, 256)         1024      \n",
            "_________________________________________________________________\n",
            "conv_pw_12_relu (Activation) (None, 7, 7, 256)         0         \n",
            "_________________________________________________________________\n",
            "conv_dw_13 (DepthwiseConv2D) (None, 7, 7, 256)         2304      \n",
            "_________________________________________________________________\n",
            "conv_dw_13_bn (BatchNormaliz (None, 7, 7, 256)         1024      \n",
            "_________________________________________________________________\n",
            "conv_dw_13_relu (Activation) (None, 7, 7, 256)         0         \n",
            "_________________________________________________________________\n",
            "conv_pw_13 (Conv2D)          (None, 7, 7, 256)         65536     \n",
            "_________________________________________________________________\n",
            "conv_pw_13_bn (BatchNormaliz (None, 7, 7, 256)         1024      \n",
            "_________________________________________________________________\n",
            "conv_pw_13_relu (Activation) (None, 7, 7, 256)         0         \n",
            "_________________________________________________________________\n",
            "global_average_pooling2d_1 ( (None, 256)               0         \n",
            "_________________________________________________________________\n",
            "reshape_1 (Reshape)          (None, 1, 1, 256)         0         \n",
            "_________________________________________________________________\n",
            "dropout (Dropout)            (None, 1, 1, 256)         0         \n",
            "_________________________________________________________________\n",
            "conv_preds (Conv2D)          (None, 1, 1, 1000)        257000    \n",
            "_________________________________________________________________\n",
            "act_softmax (Activation)     (None, 1, 1, 1000)        0         \n",
            "_________________________________________________________________\n",
            "reshape_2 (Reshape)          (None, 1000)              0         \n",
            "=================================================================\n",
            "Total params: 475,544\n",
            "Trainable params: 470,072\n",
            "Non-trainable params: 5,472\n",
            "_________________________________________________________________\n"
          ],
          "name": "stdout"
        }
      ]
    },
    {
      "cell_type": "markdown",
      "metadata": {
        "id": "8sxFoePfz64J"
      },
      "source": [
        "###  Classify images"
      ]
    },
    {
      "cell_type": "code",
      "metadata": {
        "trusted": true,
        "id": "XEAs6K7-z64J",
        "outputId": "b1a5b845-7257-4a46-f9ba-abe0a7ccbaab"
      },
      "source": [
        "# Write the image name below\n",
        "\n",
        "img_path = 'Cat.jpg'\n",
        "img = image.load_img(img_path, target_size=(224, 224))\n",
        "x = image.img_to_array(img)\n",
        "x = np.expand_dims(x, axis=0)\n",
        "x = preprocess_input(x)\n",
        "\n",
        "preds = model.predict(x)\n",
        "print('Predicted:\\n', decode_predictions(preds))"
      ],
      "execution_count": null,
      "outputs": [
        {
          "output_type": "stream",
          "text": [
            "Predicted:\n",
            " [[('n03325584', 'feather_boa', 0.24640976), ('n02098286', 'West_Highland_white_terrier', 0.0548592), ('n02317335', 'starfish', 0.04160265), ('n03884397', 'panpipe', 0.038436204), ('n03388043', 'fountain', 0.035281572)]]\n"
          ],
          "name": "stdout"
        }
      ]
    },
    {
      "cell_type": "markdown",
      "metadata": {
        "id": "B_yTxUN6z64L"
      },
      "source": [
        "###  Extract CNN features"
      ]
    },
    {
      "cell_type": "code",
      "metadata": {
        "trusted": true,
        "id": "0aJXGVMGz64M",
        "outputId": "f81e4afa-986c-4854-f40a-febfda2bfa95"
      },
      "source": [
        "features = model.predict(x)\n",
        "print('\\nFeature Shape:\\n',features.shape)\n",
        "print('\\nFeatures:\\n',features)"
      ],
      "execution_count": null,
      "outputs": [
        {
          "output_type": "stream",
          "text": [
            "\n",
            "Feature Shape:\n",
            " (1, 1000)\n",
            "\n",
            "Features:\n",
            " [[1.66888469e-06 7.13705842e-04 1.65776597e-04 1.10444133e-04\n",
            "  1.78130533e-04 4.26024105e-03 3.12953052e-04 1.41131735e-04\n",
            "  6.23060841e-05 1.60201694e-07 9.00867747e-07 2.61549158e-05\n",
            "  8.94303980e-07 1.74004290e-05 5.53147001e-05 3.42097360e-06\n",
            "  2.29536345e-05 1.24992439e-04 2.50077642e-06 7.43016835e-06\n",
            "  1.03184777e-06 1.27221196e-04 7.50797972e-06 6.57107012e-05\n",
            "  2.86814952e-06 1.59370063e-06 5.43641363e-05 5.69005824e-05\n",
            "  3.04485275e-05 3.72158620e-03 6.52512142e-07 4.07435982e-06\n",
            "  2.95478958e-06 2.60659317e-06 2.85958185e-06 1.32702917e-06\n",
            "  5.19298328e-06 2.66799589e-07 3.75396165e-04 9.01980638e-06\n",
            "  9.18596834e-06 7.87482622e-06 1.11574718e-05 4.63034994e-05\n",
            "  1.34449328e-05 7.70637962e-06 4.13211128e-05 1.56748662e-04\n",
            "  1.50156950e-07 1.80128027e-05 6.31860094e-05 3.84681043e-04\n",
            "  1.07686828e-05 4.20531615e-05 2.18739769e-05 2.58908385e-05\n",
            "  4.34413596e-05 5.82938412e-07 2.88290466e-05 8.68789084e-06\n",
            "  9.98509131e-06 1.99285751e-06 6.61909962e-06 4.11969131e-06\n",
            "  4.94677734e-05 8.18203716e-06 1.08436412e-04 3.19993273e-06\n",
            "  1.51963186e-05 4.55964965e-07 1.20071206e-06 3.42108115e-06\n",
            "  4.29525107e-06 2.68542062e-05 2.85614387e-05 4.45494294e-07\n",
            "  1.50207652e-05 3.16141632e-06 3.83997976e-05 1.69067989e-05\n",
            "  1.82684616e-05 5.04875716e-05 9.19918875e-06 1.62639335e-05\n",
            "  3.03277784e-06 1.42945291e-05 5.46309366e-06 2.26383986e-06\n",
            "  3.21292896e-06 4.28478175e-04 1.72071327e-06 2.40451914e-06\n",
            "  4.46222259e-07 2.25700518e-07 4.45922167e-04 1.35597099e-06\n",
            "  4.53926191e-07 1.13233614e-06 5.29132478e-07 6.32944148e-06\n",
            "  1.30359933e-06 3.97370229e-07 2.23191464e-07 8.75961277e-08\n",
            "  1.33253006e-05 5.42194641e-07 3.71436681e-06 1.97500363e-03\n",
            "  3.31862713e-04 1.85562913e-05 4.22549341e-03 5.92082797e-05\n",
            "  1.60202794e-02 7.55974324e-05 2.15065505e-04 1.12472298e-02\n",
            "  7.98930705e-06 6.46614790e-05 5.58125862e-07 2.74177467e-07\n",
            "  2.90674592e-07 5.97467078e-06 1.18446087e-06 2.04825085e-07\n",
            "  1.31907268e-06 1.10681949e-05 3.89879206e-05 1.04639366e-05\n",
            "  1.00670570e-06 3.41092702e-04 2.75603379e-05 6.39995460e-06\n",
            "  8.02997893e-05 1.70529665e-06 3.83510314e-06 3.11328331e-05\n",
            "  9.49901641e-06 1.39490282e-06 1.50962239e-06 1.24265102e-06\n",
            "  7.28604573e-06 1.45962022e-05 5.05370690e-06 7.73198371e-06\n",
            "  3.27979023e-06 1.18010314e-06 7.55747624e-06 2.40890745e-06\n",
            "  1.71449956e-05 1.63805234e-05 6.22069047e-06 3.54600325e-03\n",
            "  9.77699645e-04 3.96944396e-03 2.05595672e-04 7.72036728e-05\n",
            "  2.41242142e-05 2.11248882e-02 5.85954404e-04 3.07261826e-06\n",
            "  4.19994540e-05 7.37492996e-07 5.71296539e-07 8.32922581e-07\n",
            "  1.79325014e-07 1.92526770e-07 2.35282130e-07 1.44568901e-07\n",
            "  1.04773414e-06 2.23540192e-05 1.85782028e-06 1.25754668e-05\n",
            "  1.66606048e-06 5.38220629e-05 1.81695214e-04 4.26810539e-06\n",
            "  2.07504604e-06 2.51837548e-07 2.95892642e-06 1.31583420e-05\n",
            "  5.83013752e-06 1.71112479e-05 3.08873587e-06 8.29889032e-05\n",
            "  3.09993920e-05 1.06880972e-04 1.60453690e-03 1.41253858e-03\n",
            "  2.34789361e-04 7.32021144e-05 2.93967256e-04 6.35966160e-07\n",
            "  5.92170632e-04 1.97933201e-04 7.90608901e-05 1.14216498e-04\n",
            "  4.74518019e-05 7.03532578e-06 3.87190266e-05 2.83574616e-03\n",
            "  1.30046596e-04 1.70255371e-04 1.88685444e-05 5.48591986e-02\n",
            "  2.07967023e-04 1.73349315e-06 6.91943285e-08 3.77149772e-05\n",
            "  5.82824168e-06 1.49516907e-07 1.07933381e-07 1.12447503e-06\n",
            "  2.30641399e-05 1.84412568e-06 2.13365274e-06 8.97613700e-06\n",
            "  3.21081388e-05 4.66996698e-06 4.69387260e-06 5.63747599e-05\n",
            "  3.61729531e-06 3.54763506e-06 7.74539658e-05 8.69468728e-04\n",
            "  3.50651942e-04 3.80227102e-05 1.16868498e-04 5.44743671e-05\n",
            "  2.16835160e-05 6.50600123e-05 6.27032059e-05 1.90834253e-04\n",
            "  5.96248428e-04 3.70795569e-05 1.06886716e-07 7.49552128e-05\n",
            "  9.80792947e-07 2.54301449e-05 4.81945108e-07 1.82436258e-06\n",
            "  1.05184199e-06 4.58227817e-07 5.69767371e-06 7.64616345e-07\n",
            "  1.93629285e-06 1.06055588e-04 1.02432914e-05 2.08551114e-06\n",
            "  2.56685144e-03 4.13890695e-04 6.39842881e-04 2.22314957e-05\n",
            "  3.21224274e-04 3.65100859e-05 1.29503396e-05 8.66487426e-07\n",
            "  4.19567550e-06 8.80728039e-05 2.26691011e-02 5.96879143e-03\n",
            "  2.91878969e-04 7.87412864e-04 1.71269876e-05 1.12961498e-04\n",
            "  3.87512009e-05 4.21079603e-04 1.48042804e-04 1.29887951e-04\n",
            "  1.79697978e-04 1.46265098e-04 7.37608457e-03 2.05127490e-05\n",
            "  7.26263943e-06 5.94905432e-05 2.70301080e-05 9.03112086e-05\n",
            "  5.12922952e-06 2.43396062e-04 2.00937298e-04 6.32542372e-03\n",
            "  1.06000480e-04 3.39652252e-05 3.99430319e-05 5.66065870e-03\n",
            "  3.32397874e-03 4.40869946e-04 4.75182824e-05 1.13995760e-04\n",
            "  3.77997458e-05 1.64871435e-05 3.78113350e-06 1.62327638e-06\n",
            "  1.22161291e-05 1.80523912e-05 1.65930078e-06 2.65447761e-06\n",
            "  2.23358948e-04 1.43209661e-06 1.90630612e-06 6.74289458e-06\n",
            "  7.85284465e-06 3.00929587e-05 1.09775374e-05 2.84798676e-04\n",
            "  4.30660693e-05 1.43013864e-07 1.27421241e-04 3.06746988e-05\n",
            "  9.12419709e-05 2.19624490e-03 9.68253124e-04 7.29577005e-05\n",
            "  4.25457074e-05 1.70025523e-05 8.05589298e-06 5.50567393e-06\n",
            "  3.33257844e-07 2.50751200e-05 1.60677391e-05 3.05334324e-05\n",
            "  1.24079124e-05 3.53096766e-06 2.56864369e-05 2.25277963e-05\n",
            "  4.92596955e-05 1.68409446e-04 6.76595810e-05 4.16026488e-02\n",
            "  2.21504652e-05 1.53846369e-04 1.07123060e-05 5.22580012e-05\n",
            "  8.10056087e-03 7.01703038e-03 6.19118737e-06 1.05081592e-03\n",
            "  2.04780645e-06 3.82163853e-06 1.55385016e-04 2.69329448e-05\n",
            "  7.83835185e-06 3.02255386e-04 1.51104759e-05 5.04796026e-06\n",
            "  1.57178965e-05 1.53578476e-05 1.39918632e-06 9.95724349e-07\n",
            "  2.12631562e-06 4.41510747e-06 3.67553525e-06 1.01772093e-06\n",
            "  1.68870190e-06 2.33851256e-06 7.97214398e-06 3.75421914e-05\n",
            "  1.68790182e-04 1.77965321e-05 4.69793231e-05 6.08555092e-05\n",
            "  9.33780541e-07 1.86512443e-05 2.01273949e-07 7.18067668e-06\n",
            "  3.18119874e-06 6.94623304e-05 9.87027761e-06 1.85073259e-06\n",
            "  5.85647649e-05 5.83578367e-06 1.50532605e-05 1.11846812e-05\n",
            "  3.20949148e-05 2.33039209e-05 4.24821745e-04 8.51924960e-06\n",
            "  2.47879761e-05 1.49120766e-04 5.62472742e-05 7.16191698e-06\n",
            "  1.12839451e-04 3.72348331e-05 1.45963695e-05 9.78638927e-05\n",
            "  6.17116530e-05 1.48025708e-06 2.18473716e-07 2.78195353e-06\n",
            "  9.10806193e-06 6.20959099e-07 3.36792982e-06 1.65592894e-06\n",
            "  7.95297383e-05 5.55107545e-05 1.00837142e-05 2.34551453e-06\n",
            "  3.88622084e-06 1.23548249e-04 1.32677192e-03 8.16613901e-05\n",
            "  2.01612274e-05 3.64110565e-05 1.36914197e-04 7.55322480e-06\n",
            "  3.84823979e-05 4.97283036e-05 1.25024337e-04 1.81548148e-06\n",
            "  1.44449496e-06 3.55291035e-04 1.37683844e-06 1.86134945e-03\n",
            "  2.20586389e-05 7.72534258e-06 2.47952321e-05 4.66082602e-05\n",
            "  4.02254402e-04 1.96044988e-04 2.58930595e-05 7.89752055e-04\n",
            "  4.65054973e-06 9.90069930e-06 1.32452396e-05 5.03560500e-07\n",
            "  4.35871014e-04 3.05561727e-04 5.05614844e-05 5.19334790e-05\n",
            "  8.34237926e-06 1.07694033e-03 6.89780927e-06 1.29997847e-04\n",
            "  2.97282281e-06 1.43979967e-03 1.59757049e-03 8.17618740e-04\n",
            "  1.74746404e-08 3.96669784e-05 2.07978210e-05 3.29561648e-03\n",
            "  8.07424476e-06 5.00778833e-06 1.90097606e-04 2.41228733e-02\n",
            "  7.63083676e-07 6.58842409e-03 9.72343187e-05 4.14329443e-05\n",
            "  1.90189268e-04 1.21105359e-05 7.13287955e-06 8.28343254e-05\n",
            "  2.53015710e-03 8.62735760e-07 4.02264322e-06 3.11344687e-04\n",
            "  4.60907468e-05 9.96578950e-03 1.77673137e-05 2.29884591e-02\n",
            "  2.21557038e-05 4.21954133e-03 5.05996693e-04 2.72861653e-04\n",
            "  4.12064801e-05 8.07638222e-04 7.79195318e-07 1.05125832e-06\n",
            "  4.36616301e-06 1.33279691e-05 2.85431836e-02 1.92189054e-05\n",
            "  1.03075654e-05 2.70709952e-05 1.36224122e-03 4.61587064e-07\n",
            "  2.04318058e-05 3.93295295e-06 2.01410396e-04 4.62693748e-07\n",
            "  4.18993986e-05 7.31548380e-06 6.26143958e-07 1.06678077e-03\n",
            "  1.54927500e-06 6.45815135e-06 1.33956535e-04 9.62541235e-05\n",
            "  3.41966748e-03 5.74149936e-03 1.32929543e-02 2.70155601e-06\n",
            "  1.91326635e-05 4.39933729e-06 1.37420706e-04 3.31175698e-07\n",
            "  3.64277489e-03 1.59629667e-03 3.13475641e-04 7.36995935e-05\n",
            "  1.22498147e-06 8.38268534e-05 1.02247822e-03 3.62854007e-05\n",
            "  6.42743908e-05 4.66523779e-05 2.05827673e-04 4.79855626e-05\n",
            "  4.82479918e-05 7.47561444e-06 6.44623879e-06 4.48472051e-08\n",
            "  3.08058603e-04 7.05343746e-06 1.10760986e-04 2.68765748e-03\n",
            "  5.85897651e-04 3.82973803e-06 6.89788158e-06 3.30347684e-05\n",
            "  8.41759320e-05 3.60281820e-06 3.09519055e-06 1.16476986e-05\n",
            "  3.34958266e-03 5.24843472e-07 9.87038447e-07 1.07634169e-05\n",
            "  2.33023202e-05 1.75131054e-03 7.66154728e-04 4.00412791e-05\n",
            "  9.37018740e-07 2.76663457e-04 1.02496031e-07 1.04191406e-06\n",
            "  5.04095340e-07 1.77328129e-05 3.14230092e-05 2.04191922e-04\n",
            "  1.03875311e-06 2.94458550e-05 2.52422469e-04 3.31133051e-05\n",
            "  2.78520389e-07 3.19398314e-05 2.38739466e-03 2.81462533e-08\n",
            "  3.21728123e-07 4.87163430e-04 8.03865987e-07 1.94733075e-05\n",
            "  2.46409759e-01 9.67284905e-07 1.91975105e-05 5.44743102e-07\n",
            "  5.63864538e-04 1.14305090e-04 2.52641621e-04 6.95372637e-06\n",
            "  2.34608274e-06 4.63610910e-08 3.52815725e-02 7.22160030e-06\n",
            "  1.62621036e-05 2.80976042e-06 1.95785546e-07 6.96725124e-07\n",
            "  3.13849596e-04 2.90402795e-07 2.10410926e-05 1.03347861e-06\n",
            "  2.60943634e-04 1.82370584e-07 6.30735449e-05 1.08843059e-08\n",
            "  9.52879986e-07 2.04036478e-05 1.05032148e-02 4.93014022e-06\n",
            "  1.30530425e-05 1.41671808e-06 7.12150131e-06 5.59239879e-07\n",
            "  1.64148037e-03 5.50341618e-04 2.68701399e-07 1.41160463e-05\n",
            "  2.05539819e-03 4.41215263e-04 7.64605429e-05 4.85413428e-03\n",
            "  4.41820077e-07 4.36008006e-04 1.45511993e-04 1.08174879e-06\n",
            "  6.61267404e-05 1.29416476e-05 3.20487447e-06 7.83013063e-04\n",
            "  2.99645879e-04 1.02374761e-03 1.29641354e-04 1.56169415e-06\n",
            "  8.48315176e-05 1.41422006e-05 9.35148168e-03 1.22143174e-04\n",
            "  3.60385136e-04 3.80709650e-07 6.31345101e-05 7.66486907e-03\n",
            "  2.74556067e-09 2.83252011e-05 1.11979968e-03 1.18192605e-04\n",
            "  4.53098444e-03 1.33310959e-05 1.90950759e-05 2.07293779e-03\n",
            "  1.22681176e-05 7.44395265e-07 3.69762674e-05 7.69770122e-05\n",
            "  1.21254379e-06 2.87460671e-06 7.88911246e-04 2.05146662e-07\n",
            "  1.09969851e-05 7.57529226e-04 9.44531439e-06 4.87444835e-04\n",
            "  4.05182755e-06 5.74511942e-05 8.52778896e-07 2.11589104e-05\n",
            "  5.56076411e-04 3.69979971e-05 9.50246956e-03 2.58284947e-03\n",
            "  1.97865620e-06 7.30463304e-04 2.76124018e-04 8.82284541e-04\n",
            "  5.22498833e-03 2.32580951e-05 8.40680295e-05 1.19372971e-05\n",
            "  1.73936933e-05 7.76662489e-07 3.26168956e-04 3.83036422e-07\n",
            "  4.07706721e-05 4.69308288e-05 1.16487762e-07 1.11617766e-04\n",
            "  1.77718348e-07 8.54167913e-04 2.48940242e-03 3.77853612e-05\n",
            "  1.29965679e-06 2.91263413e-09 1.59028241e-05 3.12087541e-05\n",
            "  2.90403368e-05 4.99950011e-06 2.16950197e-04 2.13275984e-04\n",
            "  1.48889492e-04 1.64798257e-04 2.36987089e-05 1.45917347e-05\n",
            "  2.16768584e-07 3.28201641e-05 1.39695840e-04 3.86237815e-08\n",
            "  7.39353636e-05 7.53236745e-05 9.27808360e-05 3.38397012e-03\n",
            "  4.14414052e-03 4.64038703e-06 2.58781474e-05 6.20692153e-05\n",
            "  2.29004375e-03 1.49036373e-06 4.98229338e-06 9.97414736e-06\n",
            "  7.99613015e-04 1.65497779e-03 1.45206104e-06 1.57210292e-04\n",
            "  5.01355622e-04 8.30666686e-05 1.84530691e-07 4.63041579e-05\n",
            "  1.05071813e-04 1.99371893e-02 3.13717290e-04 3.84362042e-02\n",
            "  2.15649910e-04 8.58714411e-05 5.24839998e-05 1.72966775e-05\n",
            "  3.51455265e-06 2.28034764e-07 1.71826503e-06 2.04793537e-06\n",
            "  8.26500691e-05 1.76190195e-04 2.43882139e-04 7.33098132e-04\n",
            "  1.41159602e-04 1.87565820e-06 2.56456588e-05 1.48350548e-03\n",
            "  1.10631408e-02 3.04666372e-08 8.50699871e-06 7.21134664e-03\n",
            "  1.94959124e-04 1.19082071e-03 5.35147171e-03 2.29196879e-03\n",
            "  5.18650495e-06 2.62193120e-04 9.41796486e-07 1.01292553e-05\n",
            "  5.51035977e-04 1.92134266e-05 2.58725572e-06 2.05342920e-04\n",
            "  3.08154199e-06 6.47655324e-05 3.39491777e-08 6.17920747e-03\n",
            "  1.18965881e-05 2.04461521e-05 1.71045740e-05 1.95880534e-06\n",
            "  4.98796289e-05 4.37126902e-04 5.70384418e-06 5.22399096e-05\n",
            "  5.62705798e-04 9.71872669e-06 8.32508078e-07 3.51078597e-05\n",
            "  8.73727899e-04 6.39465579e-04 1.43954915e-03 1.18360038e-06\n",
            "  1.55997568e-05 2.87437375e-04 1.82096010e-05 2.44788444e-05\n",
            "  1.25197403e-05 1.13819283e-07 1.86109560e-06 2.05858887e-05\n",
            "  9.88097599e-06 1.70258703e-04 2.68476761e-05 4.97379806e-05\n",
            "  1.35771861e-05 3.72000177e-05 3.58738635e-06 1.45009617e-04\n",
            "  4.77304957e-06 7.77118956e-04 1.08918084e-05 6.02532828e-06\n",
            "  1.71006526e-04 4.38616873e-04 1.04861996e-04 2.61355052e-03\n",
            "  1.26538926e-05 1.25872493e-05 2.89435382e-04 1.35369490e-07\n",
            "  1.14108607e-05 1.32283867e-05 1.84272983e-04 3.00720305e-04\n",
            "  1.93403583e-04 5.15202100e-06 5.15099709e-05 8.03871371e-05\n",
            "  2.85153219e-04 7.00769669e-06 4.97403555e-04 7.64299602e-06\n",
            "  1.47244364e-05 1.81517426e-05 5.26361587e-03 1.54416757e-05\n",
            "  1.83384851e-04 3.44701075e-05 1.12487714e-06 8.89197963e-07\n",
            "  4.18159470e-06 1.42043500e-05 6.54248424e-06 1.22468248e-06\n",
            "  6.26487526e-05 2.85617116e-05 2.93984223e-04 9.52711343e-06\n",
            "  9.40552098e-04 2.72547368e-05 1.05278687e-05 1.76091344e-05\n",
            "  1.84054588e-04 1.70423591e-05 1.01806218e-05 2.06797966e-04\n",
            "  7.82370407e-05 1.08143261e-07 6.24141772e-04 2.55702948e-03\n",
            "  3.45465924e-05 1.13019792e-06 1.13628244e-06 5.78675099e-05\n",
            "  6.27848506e-03 5.43324359e-06 6.77249802e-04 1.64300236e-05\n",
            "  2.40548703e-04 1.02368261e-07 1.85422698e-06 2.43964721e-04\n",
            "  2.36309934e-04 1.25176439e-06 5.79338266e-05 1.20361379e-04\n",
            "  1.97397836e-04 3.19374434e-04 9.63324637e-05 2.89353807e-06\n",
            "  2.64224829e-04 6.60857942e-04 9.06576344e-04 1.79397568e-04\n",
            "  3.27182410e-04 5.13886771e-05 4.94584092e-04 3.19918240e-06\n",
            "  1.46647301e-06 2.13639752e-04 4.80869639e-04 1.67044680e-04\n",
            "  2.04748445e-04 8.30897136e-07 2.21527042e-03 6.46245840e-04\n",
            "  2.55895628e-07 7.02917634e-04 1.37830072e-03 1.15252797e-05\n",
            "  2.67889664e-06 7.02393882e-05 5.38747583e-04 1.12390467e-06\n",
            "  1.02296962e-08 7.76408488e-05 2.79131314e-06 1.99065298e-07\n",
            "  7.72001396e-04 1.16609700e-03 1.27883841e-05 1.11407417e-06\n",
            "  1.12264977e-04 5.43255464e-06 8.10960010e-09 4.82862447e-07\n",
            "  1.25101267e-03 1.60335981e-06 5.76941193e-06 2.36767621e-04\n",
            "  2.56182066e-05 9.07763706e-07 3.26123372e-05 1.60090299e-03\n",
            "  4.69179431e-05 9.05657769e-04 9.62598961e-07 5.62689183e-06\n",
            "  1.23052553e-06 5.48678545e-05 1.60556228e-05 2.55022633e-06\n",
            "  4.47336701e-04 1.08698565e-04 1.24424196e-05 1.28820000e-04\n",
            "  1.27884035e-04 3.00227134e-06 2.24357864e-04 5.50020814e-05\n",
            "  1.26809291e-05 3.96048745e-05 4.15436312e-04 2.57964688e-03\n",
            "  1.73647481e-03 1.66488602e-03 7.34188186e-04 5.21328111e-05\n",
            "  1.48277841e-05 1.40270799e-06 5.62551577e-05 1.63134653e-03\n",
            "  5.20414847e-04 1.22770302e-06 5.51188577e-07 3.76134881e-06\n",
            "  1.42245161e-04 1.98342575e-04 1.57316463e-05 1.68062634e-05\n",
            "  4.05897299e-05 2.64319475e-03 6.36533514e-05 1.19708020e-05\n",
            "  4.12523423e-06 8.04988758e-06 2.54301199e-07 2.54200331e-05\n",
            "  2.20865059e-05 1.63930177e-03 8.23826980e-08 6.56715110e-06\n",
            "  3.68847650e-05 1.58570714e-07 3.43027796e-06 1.16506544e-05\n",
            "  1.43904245e-07 1.43769139e-04 1.51952318e-05 1.66364807e-05\n",
            "  2.07604762e-06 6.10059487e-07 7.24612910e-05 3.91555834e-04\n",
            "  1.60410527e-05 2.36953856e-05 2.65293238e-05 3.27116577e-04\n",
            "  6.12304793e-05 3.75693059e-03 1.20497309e-04 3.02540739e-05\n",
            "  1.53541860e-05 2.06143741e-05 1.03520940e-03 1.36881881e-05\n",
            "  3.58753168e-05 1.99620918e-04 1.66144400e-05 3.10745122e-07\n",
            "  2.64917412e-06 2.58251544e-06 2.45667661e-06 1.40927881e-07\n",
            "  1.35490836e-06 2.28944089e-07 6.36052573e-06 1.44167643e-06\n",
            "  3.64060252e-04 7.33965207e-05 1.40736774e-05 2.63729133e-04\n",
            "  2.14589454e-06 6.98840668e-05 6.57474995e-03 5.18862507e-05\n",
            "  7.64062406e-07 6.58896024e-05 1.30822111e-04 1.03719208e-06\n",
            "  2.77239387e-03 1.27956126e-04 4.90328297e-04 4.69055522e-05\n",
            "  7.41475541e-03 1.81500291e-04 1.19716588e-05 6.25881413e-03\n",
            "  1.38948253e-05 4.45788639e-04 1.16037445e-04 4.08810520e-05\n",
            "  6.73641916e-05 5.38899349e-06 9.21672563e-06 4.59308503e-05\n",
            "  2.70481069e-05 6.05418222e-07 4.98964032e-03 1.02294885e-04]]\n"
          ],
          "name": "stdout"
        }
      ]
    },
    {
      "cell_type": "markdown",
      "metadata": {
        "id": "2EolZlJ4z64T"
      },
      "source": [
        "###  Extract features from an arbitrary intermediate layer"
      ]
    },
    {
      "cell_type": "code",
      "metadata": {
        "trusted": true,
        "id": "poH3e9E9z64U",
        "outputId": "c6d177d5-a91c-4048-d6e2-75d49a32a2c7"
      },
      "source": [
        "model_minimal = Model(input=model.input, output=model.get_layer('conv_dw_2_relu').output)\n",
        "\n",
        "conv_dw_2_relu_features = model_minimal.predict(x)\n",
        "print('Features of conv_dw_2_relu:',conv_dw_2_relu_features.shape)"
      ],
      "execution_count": null,
      "outputs": [
        {
          "output_type": "stream",
          "text": [
            "Features of conv_dw_2_relu: (1, 56, 56, 16)\n"
          ],
          "name": "stdout"
        }
      ]
    },
    {
      "cell_type": "markdown",
      "metadata": {
        "id": "2gLp9GMQz64V"
      },
      "source": [
        "### You can extract these features and use the base network as a feature extractor for your problems. "
      ]
    },
    {
      "cell_type": "markdown",
      "metadata": {
        "id": "Qldln4nrz64W"
      },
      "source": [
        "# Part 3: Deep Convolution Layer Visualization"
      ]
    },
    {
      "cell_type": "code",
      "metadata": {
        "trusted": true,
        "id": "hrR4zpS-z64W"
      },
      "source": [
        "import matplotlib as mp\n",
        "%matplotlib inline\n",
        "import matplotlib.pyplot as plt\n",
        "import tensorflow as tf\n",
        "import tensorflow.contrib.slim as slim\n",
        "from tensorflow.examples.tutorials.mnist import input_data\n",
        "import math"
      ],
      "execution_count": null,
      "outputs": []
    },
    {
      "cell_type": "markdown",
      "metadata": {
        "id": "W8cC0gCyz64X"
      },
      "source": [
        "### Extract Data"
      ]
    },
    {
      "cell_type": "code",
      "metadata": {
        "trusted": true,
        "id": "GgtTGfBBz64Y",
        "outputId": "e69aeeb0-2c1b-4051-c291-b91cfc1c78bf"
      },
      "source": [
        "mnist = input_data.read_data_sets(\"MNIST_data/\", one_hot=True)"
      ],
      "execution_count": null,
      "outputs": [
        {
          "output_type": "stream",
          "text": [
            "Successfully downloaded train-images-idx3-ubyte.gz 9912422 bytes.\n",
            "Extracting MNIST_data/train-images-idx3-ubyte.gz\n",
            "Successfully downloaded train-labels-idx1-ubyte.gz 28881 bytes.\n",
            "Extracting MNIST_data/train-labels-idx1-ubyte.gz\n",
            "Successfully downloaded t10k-images-idx3-ubyte.gz 1648877 bytes.\n",
            "Extracting MNIST_data/t10k-images-idx3-ubyte.gz\n",
            "Successfully downloaded t10k-labels-idx1-ubyte.gz 4542 bytes.\n",
            "Extracting MNIST_data/t10k-labels-idx1-ubyte.gz\n"
          ],
          "name": "stdout"
        }
      ]
    },
    {
      "cell_type": "markdown",
      "metadata": {
        "id": "3hO2hilwz64Y"
      },
      "source": [
        "### Model Building"
      ]
    },
    {
      "cell_type": "code",
      "metadata": {
        "trusted": true,
        "id": "spXETzARz64Z"
      },
      "source": [
        "tf.reset_default_graph()\n",
        "\n",
        "x = tf.placeholder(tf.float32, [None, 784],name=\"x-in\")\n",
        "true_y = tf.placeholder(tf.float32, [None, 10],name=\"y-in\")\n",
        "keep_prob = tf.placeholder(\"float\")\n",
        "\n",
        "x_image = tf.reshape(x,[-1,28,28,1])\n",
        "hidden_1 = slim.conv2d(x_image,5,[5,5])\n",
        "pool_1 = slim.max_pool2d(hidden_1,[2,2])\n",
        "hidden_2 = slim.conv2d(pool_1,5,[5,5])\n",
        "pool_2 = slim.max_pool2d(hidden_2,[2,2])\n",
        "hidden_3 = slim.conv2d(pool_2,20,[5,5])\n",
        "hidden_3 = slim.dropout(hidden_3,keep_prob)\n",
        "out_y = slim.fully_connected(slim.flatten(hidden_3),10,activation_fn=tf.nn.softmax)\n",
        "\n",
        "cross_entropy = -tf.reduce_sum(true_y*tf.log(out_y))\n",
        "correct_prediction = tf.equal(tf.argmax(out_y,1), tf.argmax(true_y,1))\n",
        "accuracy = tf.reduce_mean(tf.cast(correct_prediction, \"float\"))\n",
        "train_step = tf.train.AdamOptimizer(1e-4).minimize(cross_entropy)"
      ],
      "execution_count": null,
      "outputs": []
    },
    {
      "cell_type": "markdown",
      "metadata": {
        "id": "L6X1uhSjz64a"
      },
      "source": [
        "### Training"
      ]
    },
    {
      "cell_type": "code",
      "metadata": {
        "trusted": true,
        "id": "icfym6Jrz64b",
        "outputId": "5ab2a7f2-b3eb-4428-e520-3fcda50a3d55"
      },
      "source": [
        "batchSize = 50\n",
        "sess = tf.Session()\n",
        "init = tf.global_variables_initializer()\n",
        "sess.run(init)\n",
        "for i in range(1001):\n",
        "    batch = mnist.train.next_batch(batchSize)\n",
        "    sess.run(train_step, feed_dict={x:batch[0],true_y:batch[1], keep_prob:0.5})\n",
        "    if i % 100 == 0 and i != 0:\n",
        "        trainAccuracy = sess.run(accuracy, feed_dict={x:batch[0],true_y:batch[1], keep_prob:1.0})\n",
        "        print(\"step %d, training accuracy %g\"%(i, trainAccuracy))"
      ],
      "execution_count": null,
      "outputs": [
        {
          "output_type": "stream",
          "text": [
            "step 100, training accuracy 0.38\n",
            "step 200, training accuracy 0.54\n",
            "step 300, training accuracy 0.8\n",
            "step 400, training accuracy 0.86\n",
            "step 500, training accuracy 0.86\n",
            "step 600, training accuracy 0.88\n",
            "step 700, training accuracy 0.98\n",
            "step 800, training accuracy 0.86\n",
            "step 900, training accuracy 0.88\n",
            "step 1000, training accuracy 0.86\n"
          ],
          "name": "stdout"
        }
      ]
    },
    {
      "cell_type": "markdown",
      "metadata": {
        "id": "G3yuuudaz64c"
      },
      "source": [
        "### Testing accuracy"
      ]
    },
    {
      "cell_type": "code",
      "metadata": {
        "trusted": true,
        "id": "Am8mswoNz64e",
        "outputId": "6749d3a8-3c9b-4cbd-c40e-f86601314ccd"
      },
      "source": [
        "testAccuracy = sess.run(accuracy, feed_dict={x:mnist.test.images,true_y:mnist.test.labels, keep_prob:1.0})\n",
        "print(\"test accuracy %g\"%(testAccuracy))"
      ],
      "execution_count": null,
      "outputs": [
        {
          "output_type": "stream",
          "text": [
            "test accuracy 0.9166\n"
          ],
          "name": "stdout"
        }
      ]
    },
    {
      "cell_type": "markdown",
      "metadata": {
        "id": "rH-T9s4jz64k"
      },
      "source": [
        "### Get activation values and plotting"
      ]
    },
    {
      "cell_type": "code",
      "metadata": {
        "collapsed": true,
        "trusted": false,
        "id": "HPNoAF8rz65G"
      },
      "source": [
        "def getActivations(layer,stimuli):\n",
        "    units = sess.run(layer,feed_dict={x:np.reshape(stimuli,[1,784],order='F'),keep_prob:1.0})\n",
        "    plotNNFilter(units)\n",
        "    \n",
        "def plotNNFilter(units):\n",
        "    filters = units.shape[3]\n",
        "    plt.figure(1, figsize=(20,20))\n",
        "    n_columns = 6\n",
        "    n_rows = math.ceil(filters / n_columns) + 1\n",
        "    for i in range(filters):\n",
        "        plt.subplot(n_rows, n_columns, i+1)\n",
        "        plt.title('Filter ' + str(i))\n",
        "        plt.imshow(units[0,:,:,i], interpolation=\"nearest\", cmap=\"gray\")"
      ],
      "execution_count": null,
      "outputs": []
    },
    {
      "cell_type": "markdown",
      "metadata": {
        "id": "9LNTKRqgz65H"
      },
      "source": [
        "### Input Image"
      ]
    },
    {
      "cell_type": "code",
      "metadata": {
        "trusted": false,
        "id": "X6HYXj6xz65I",
        "outputId": "f4391fbf-c3fb-4ede-a0fb-4e281d9633be"
      },
      "source": [
        "imageToUse = mnist.test.images[0]\n",
        "plt.imshow(np.reshape(imageToUse,[28,28]), interpolation=\"nearest\", cmap=\"gray\")"
      ],
      "execution_count": null,
      "outputs": [
        {
          "output_type": "execute_result",
          "data": {
            "text/plain": [
              "<matplotlib.image.AxesImage at 0x2b304d78b38>"
            ]
          },
          "metadata": {
            "tags": []
          },
          "execution_count": 20
        },
        {
          "output_type": "display_data",
          "data": {
            "image/png": "[encoded data removed]",
            "text/plain": [
              "<matplotlib.figure.Figure at 0x2b304d06c88>"
            ]
          },
          "metadata": {
            "tags": []
          }
        }
      ]
    },
    {
      "cell_type": "markdown",
      "metadata": {
        "id": "tjoAPkWmz65J"
      },
      "source": [
        "### Activation in Layer 1"
      ]
    },
    {
      "cell_type": "code",
      "metadata": {
        "trusted": false,
        "id": "CJH7Peosz65J",
        "outputId": "25846beb-8292-4ef0-8939-36dfab617e91"
      },
      "source": [
        "getActivations(hidden_1,imageToUse)"
      ],
      "execution_count": null,
      "outputs": [
        {
          "output_type": "display_data",
          "data": {
            "image/png": "[encoded data removed]",
            "text/plain": [
              "<matplotlib.figure.Figure at 0x2b304d87320>"
            ]
          },
          "metadata": {
            "tags": []
          }
        }
      ]
    },
    {
      "cell_type": "markdown",
      "metadata": {
        "id": "Qx8dUJJRz65J"
      },
      "source": [
        "### Activation in Layer 2"
      ]
    },
    {
      "cell_type": "code",
      "metadata": {
        "trusted": false,
        "id": "kiZj4UTyz65L",
        "outputId": "4119685d-ba26-48fc-981f-ca1b86af2b2a"
      },
      "source": [
        "getActivations(hidden_2,imageToUse)"
      ],
      "execution_count": null,
      "outputs": [
        {
          "output_type": "display_data",
          "data": {
            "image/png": "[encoded data removed]",
            "text/plain": [
              "<matplotlib.figure.Figure at 0x2b30449f9b0>"
            ]
          },
          "metadata": {
            "tags": []
          }
        }
      ]
    },
    {
      "cell_type": "markdown",
      "metadata": {
        "id": "Iq6lTjgJz65M"
      },
      "source": [
        "### Activation in Layer 3"
      ]
    },
    {
      "cell_type": "code",
      "metadata": {
        "trusted": false,
        "id": "pNkq30O8z65N",
        "outputId": "b0c1e194-d86d-4bc1-c038-b6efc5896fb7"
      },
      "source": [
        "getActivations(hidden_3,imageToUse)"
      ],
      "execution_count": null,
      "outputs": [
        {
          "output_type": "display_data",
          "data": {
            "image/png": "[encoded data removed]",
            "text/plain": [
              "<matplotlib.figure.Figure at 0x2b304d93898>"
            ]
          },
          "metadata": {
            "tags": []
          }
        }
      ]
    },
    {
      "cell_type": "markdown",
      "metadata": {
        "id": "DrZIVDF5z65N"
      },
      "source": [
        "# Part 4: Design Choices in Convolutional Neural Networks"
      ]
    },
    {
      "cell_type": "markdown",
      "metadata": {
        "id": "ToM_W50Mz65O"
      },
      "source": [
        "## Influence of convolution size"
      ]
    },
    {
      "cell_type": "markdown",
      "metadata": {
        "id": "i4PKH1Mzz65P"
      },
      "source": [
        "### Model with (3 x 3) Convolution"
      ]
    },
    {
      "cell_type": "code",
      "metadata": {
        "trusted": true,
        "id": "5MVh9hn_z65P",
        "outputId": "484413df-20ef-4c9e-f54d-73d50c2219d4"
      },
      "source": [
        "K.clear_session()\n",
        "start = timeit.default_timer()   \n",
        "model = Sequential()\n",
        "model.add(Conv2D(8, kernel_size=(7, 7), activation='relu', input_shape=input_shape))\n",
        "model.add(Conv2D(16, (7, 7), activation='relu'))\n",
        "model.add(Flatten())\n",
        "model.add(Dense(32, activation='relu'))\n",
        "model.add(Dense(num_classes, activation='softmax'))\n",
        "model.summary()\n",
        "model.compile(loss=keras.losses.categorical_crossentropy, optimizer=keras.optimizers.Adadelta(), metrics=['accuracy'])\n",
        "model.fit(x_train, y_train, batch_size=batch_size, epochs=epochs, verbose=1, validation_data=(x_test, y_test))\n",
        "end = timeit.default_timer()\n",
        "print(\"Time Taken to run the model:\",end - start, \"seconds\")  "
      ],
      "execution_count": null,
      "outputs": [
        {
          "output_type": "stream",
          "text": [
            "_________________________________________________________________\n",
            "Layer (type)                 Output Shape              Param #   \n",
            "=================================================================\n",
            "conv2d_1 (Conv2D)            (None, 22, 22, 8)         400       \n",
            "_________________________________________________________________\n",
            "conv2d_2 (Conv2D)            (None, 16, 16, 16)        6288      \n",
            "_________________________________________________________________\n",
            "flatten_1 (Flatten)          (None, 4096)              0         \n",
            "_________________________________________________________________\n",
            "dense_1 (Dense)              (None, 32)                131104    \n",
            "_________________________________________________________________\n",
            "dense_2 (Dense)              (None, 10)                330       \n",
            "=================================================================\n",
            "Total params: 138,122\n",
            "Trainable params: 138,122\n",
            "Non-trainable params: 0\n",
            "_________________________________________________________________\n",
            "Train on 60000 samples, validate on 10000 samples\n",
            "Epoch 1/1\n",
            "60000/60000 [==============================] - 253s - loss: 0.3002 - acc: 0.9092 - val_loss: 0.0904 - val_acc: 0.9728\n",
            "Time Taken to run the model: 254.85453779999807 seconds\n"
          ],
          "name": "stdout"
        }
      ]
    },
    {
      "cell_type": "markdown",
      "metadata": {
        "id": "SnHus0uuz65Q"
      },
      "source": [
        "### Model with (7 x 7) Convolution"
      ]
    },
    {
      "cell_type": "code",
      "metadata": {
        "trusted": false,
        "id": "35wlEqsez65T"
      },
      "source": [
        "# Write your code here \n",
        "\n",
        "# Use the same model design from the above cell "
      ],
      "execution_count": null,
      "outputs": []
    },
    {
      "cell_type": "markdown",
      "metadata": {
        "id": "pNlLe2RTz65U"
      },
      "source": [
        "## Striding"
      ]
    },
    {
      "cell_type": "markdown",
      "metadata": {
        "id": "GfOamG69z65U"
      },
      "source": [
        "### Model with (7 x 7) Convolution with 2 Steps"
      ]
    },
    {
      "cell_type": "code",
      "metadata": {
        "trusted": true,
        "id": "Gy4keJ83z65V",
        "outputId": "2f746f18-a043-4850-beef-3f1d28c9977b"
      },
      "source": [
        "start = timeit.default_timer()   \n",
        "model = Sequential()\n",
        "model.add(Conv2D(8, kernel_size=(7, 7), strides=2, activation='relu', input_shape=input_shape))\n",
        "model.add(Conv2D(16, (7, 7), strides=2, activation='relu'))\n",
        "model.add(Flatten())\n",
        "model.add(Dense(32, activation='relu'))\n",
        "model.add(Dense(num_classes, activation='softmax'))\n",
        "model.summary()\n",
        "model.compile(loss=keras.losses.categorical_crossentropy, optimizer=keras.optimizers.Adadelta(), metrics=['accuracy'])\n",
        "model.fit(x_train, y_train, batch_size=batch_size, epochs=epochs, verbose=1, validation_data=(x_test, y_test))\n",
        "end = timeit.default_timer()\n",
        "print(\"Time Taken to run the model:\",end - start, \"seconds\")  "
      ],
      "execution_count": null,
      "outputs": [
        {
          "output_type": "stream",
          "text": [
            "_________________________________________________________________\n",
            "Layer (type)                 Output Shape              Param #   \n",
            "=================================================================\n",
            "conv2d_5 (Conv2D)            (None, 11, 11, 8)         400       \n",
            "_________________________________________________________________\n",
            "conv2d_6 (Conv2D)            (None, 3, 3, 16)          6288      \n",
            "_________________________________________________________________\n",
            "flatten_3 (Flatten)          (None, 144)               0         \n",
            "_________________________________________________________________\n",
            "dense_5 (Dense)              (None, 32)                4640      \n",
            "_________________________________________________________________\n",
            "dense_6 (Dense)              (None, 10)                330       \n",
            "=================================================================\n",
            "Total params: 11,658\n",
            "Trainable params: 11,658\n",
            "Non-trainable params: 0\n",
            "_________________________________________________________________\n",
            "Train on 60000 samples, validate on 10000 samples\n",
            "Epoch 1/1\n",
            "60000/60000 [==============================] - 30s - loss: 0.4657 - acc: 0.8545 - val_loss: 0.1496 - val_acc: 0.9551\n",
            "Time Taken to run the model: 31.884452500002226 seconds\n"
          ],
          "name": "stdout"
        }
      ]
    },
    {
      "cell_type": "markdown",
      "metadata": {
        "id": "E8uG76iwz65V"
      },
      "source": [
        "## Padding"
      ]
    },
    {
      "cell_type": "markdown",
      "metadata": {
        "id": "itKPrQB-z65W"
      },
      "source": [
        "### Model with (7 x 7) Convolution with Same Padding"
      ]
    },
    {
      "cell_type": "code",
      "metadata": {
        "trusted": true,
        "id": "gHi7KSfjz65W",
        "outputId": "cb18cccf-437a-4e6b-ae2b-378e4bb90314"
      },
      "source": [
        "start = timeit.default_timer()   \n",
        "model = Sequential()\n",
        "model.add(Conv2D(8, kernel_size=(7, 7), strides=1, padding='same', activation='relu', input_shape=input_shape))\n",
        "model.add(Conv2D(16, (7, 7), strides=1, padding='same', activation='relu'))\n",
        "model.add(Flatten())\n",
        "model.add(Dense(32, activation='relu'))\n",
        "model.add(Dense(num_classes, activation='softmax'))\n",
        "model.summary()\n",
        "model.compile(loss=keras.losses.categorical_crossentropy, optimizer=keras.optimizers.Adadelta(), metrics=['accuracy'])\n",
        "model.fit(x_train, y_train, batch_size=batch_size, epochs=epochs, verbose=1, validation_data=(x_test, y_test))\n",
        "end = timeit.default_timer()\n",
        "print(\"Time Taken to run the model:\",end - start, \"seconds\")  "
      ],
      "execution_count": null,
      "outputs": [
        {
          "output_type": "stream",
          "text": [
            "_________________________________________________________________\n",
            "Layer (type)                 Output Shape              Param #   \n",
            "=================================================================\n",
            "conv2d_3 (Conv2D)            (None, 10, 10, 8)         80        \n",
            "_________________________________________________________________\n",
            "conv2d_4 (Conv2D)            (None, 4, 4, 16)          1168      \n",
            "_________________________________________________________________\n",
            "flatten_2 (Flatten)          (None, 256)               0         \n",
            "_________________________________________________________________\n",
            "dense_3 (Dense)              (None, 32)                8224      \n",
            "_________________________________________________________________\n",
            "dense_4 (Dense)              (None, 10)                330       \n",
            "=================================================================\n",
            "Total params: 9,802\n",
            "Trainable params: 9,802\n",
            "Non-trainable params: 0\n",
            "_________________________________________________________________\n",
            "Train on 60000 samples, validate on 10000 samples\n",
            "Epoch 1/1\n",
            "60000/60000 [==============================] - 15s - loss: 0.6416 - acc: 0.8013 - val_loss: 0.2616 - val_acc: 0.9248\n",
            "Time Taken to run the model: 17.114969599992037 seconds\n"
          ],
          "name": "stdout"
        }
      ]
    },
    {
      "cell_type": "markdown",
      "metadata": {
        "id": "XQLZSR7pz65X"
      },
      "source": [
        "## Pooling"
      ]
    },
    {
      "cell_type": "markdown",
      "metadata": {
        "id": "sgNrJgBmz65X"
      },
      "source": [
        "### Model with (3 x 3) Convolution with Pooling (2 x 2) "
      ]
    },
    {
      "cell_type": "code",
      "metadata": {
        "trusted": false,
        "id": "lj4TNPToz65Y",
        "outputId": "31dd5abb-c0df-4fe8-bc0a-0cda3bba6ae8"
      },
      "source": [
        "start = timeit.default_timer()   \n",
        "model = Sequential()\n",
        "model.add(Conv2D(8, kernel_size=(3, 3), activation='relu', input_shape=input_shape))\n",
        "model.add(MaxPooling2D(pool_size=(2, 2)))\n",
        "model.add(Conv2D(16, (3, 3), activation='relu'))\n",
        "model.add(MaxPooling2D(pool_size=(2, 2)))\n",
        "model.add(Flatten())\n",
        "model.add(Dense(32, activation='relu'))\n",
        "model.add(Dense(num_classes, activation='softmax'))\n",
        "model.summary()\n",
        "model.compile(loss=keras.losses.categorical_crossentropy, optimizer=keras.optimizers.Adadelta(), metrics=['accuracy'])\n",
        "model.fit(x_train, y_train, batch_size=batch_size, epochs=epochs, verbose=1, validation_data=(x_test, y_test))\n",
        "end = timeit.default_timer()\n",
        "print(\"Time Taken to run the model:\",end - start, \"seconds\")  "
      ],
      "execution_count": null,
      "outputs": [
        {
          "output_type": "stream",
          "text": [
            "_________________________________________________________________\n",
            "Layer (type)                 Output Shape              Param #   \n",
            "=================================================================\n",
            "conv2d_9 (Conv2D)            (None, 26, 26, 8)         80        \n",
            "_________________________________________________________________\n",
            "max_pooling2d_1 (MaxPooling2 (None, 13, 13, 8)         0         \n",
            "_________________________________________________________________\n",
            "conv2d_10 (Conv2D)           (None, 11, 11, 16)        1168      \n",
            "_________________________________________________________________\n",
            "max_pooling2d_2 (MaxPooling2 (None, 5, 5, 16)          0         \n",
            "_________________________________________________________________\n",
            "flatten_5 (Flatten)          (None, 400)               0         \n",
            "_________________________________________________________________\n",
            "dense_9 (Dense)              (None, 32)                12832     \n",
            "_________________________________________________________________\n",
            "dense_10 (Dense)             (None, 10)                330       \n",
            "=================================================================\n",
            "Total params: 14,410\n",
            "Trainable params: 14,410\n",
            "Non-trainable params: 0\n",
            "_________________________________________________________________\n",
            "Train on 60000 samples, validate on 10000 samples\n",
            "Epoch 1/1\n",
            "60000/60000 [==============================] - 19s - loss: 0.5311 - acc: 0.8400 - val_loss: 0.1740 - val_acc: 0.9499\n",
            "Time Taken to run the model: 20.076150678315344 seconds\n"
          ],
          "name": "stdout"
        }
      ]
    }
  ]
}